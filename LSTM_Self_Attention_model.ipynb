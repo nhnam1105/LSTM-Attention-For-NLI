{
  "cells": [
    {
      "cell_type": "markdown",
      "metadata": {
        "id": "view-in-github",
        "colab_type": "text"
      },
      "source": [
        "<a href=\"https://colab.research.google.com/github/nhnam1105/LSTM-Attention-For-NLI/blob/master/LSTM_Self_Attention_model.ipynb\" target=\"_parent\"><img src=\"https://colab.research.google.com/assets/colab-badge.svg\" alt=\"Open In Colab\"/></a>"
      ]
    },
    {
      "cell_type": "code",
      "execution_count": 2,
      "metadata": {
        "id": "xVFFHYq19l_H",
        "colab": {
          "base_uri": "https://localhost:8080/"
        },
        "outputId": "3b195e09-6666-40d7-ea1b-bb9a0e543a93"
      },
      "outputs": [
        {
          "output_type": "stream",
          "name": "stdout",
          "text": [
            "Collecting transformers\n",
            "  Downloading transformers-4.17.0-py3-none-any.whl (3.8 MB)\n",
            "\u001b[K     |████████████████████████████████| 3.8 MB 40.8 MB/s \n",
            "\u001b[?25hCollecting tokenizers!=0.11.3,>=0.11.1\n",
            "  Downloading tokenizers-0.11.6-cp37-cp37m-manylinux_2_12_x86_64.manylinux2010_x86_64.whl (6.5 MB)\n",
            "\u001b[K     |████████████████████████████████| 6.5 MB 66.6 MB/s \n",
            "\u001b[?25hRequirement already satisfied: packaging>=20.0 in /usr/local/lib/python3.7/dist-packages (from transformers) (21.3)\n",
            "Collecting huggingface-hub<1.0,>=0.1.0\n",
            "  Downloading huggingface_hub-0.4.0-py3-none-any.whl (67 kB)\n",
            "\u001b[K     |████████████████████████████████| 67 kB 7.0 MB/s \n",
            "\u001b[?25hCollecting sacremoses\n",
            "  Downloading sacremoses-0.0.49-py3-none-any.whl (895 kB)\n",
            "\u001b[K     |████████████████████████████████| 895 kB 74.2 MB/s \n",
            "\u001b[?25hRequirement already satisfied: filelock in /usr/local/lib/python3.7/dist-packages (from transformers) (3.6.0)\n",
            "Requirement already satisfied: regex!=2019.12.17 in /usr/local/lib/python3.7/dist-packages (from transformers) (2019.12.20)\n",
            "Requirement already satisfied: importlib-metadata in /usr/local/lib/python3.7/dist-packages (from transformers) (4.11.3)\n",
            "Requirement already satisfied: tqdm>=4.27 in /usr/local/lib/python3.7/dist-packages (from transformers) (4.63.0)\n",
            "Requirement already satisfied: numpy>=1.17 in /usr/local/lib/python3.7/dist-packages (from transformers) (1.21.5)\n",
            "Requirement already satisfied: requests in /usr/local/lib/python3.7/dist-packages (from transformers) (2.23.0)\n",
            "Collecting pyyaml>=5.1\n",
            "  Downloading PyYAML-6.0-cp37-cp37m-manylinux_2_5_x86_64.manylinux1_x86_64.manylinux_2_12_x86_64.manylinux2010_x86_64.whl (596 kB)\n",
            "\u001b[K     |████████████████████████████████| 596 kB 68.3 MB/s \n",
            "\u001b[?25hRequirement already satisfied: typing-extensions>=3.7.4.3 in /usr/local/lib/python3.7/dist-packages (from huggingface-hub<1.0,>=0.1.0->transformers) (3.10.0.2)\n",
            "Requirement already satisfied: pyparsing!=3.0.5,>=2.0.2 in /usr/local/lib/python3.7/dist-packages (from packaging>=20.0->transformers) (3.0.7)\n",
            "Requirement already satisfied: zipp>=0.5 in /usr/local/lib/python3.7/dist-packages (from importlib-metadata->transformers) (3.7.0)\n",
            "Requirement already satisfied: certifi>=2017.4.17 in /usr/local/lib/python3.7/dist-packages (from requests->transformers) (2021.10.8)\n",
            "Requirement already satisfied: idna<3,>=2.5 in /usr/local/lib/python3.7/dist-packages (from requests->transformers) (2.10)\n",
            "Requirement already satisfied: chardet<4,>=3.0.2 in /usr/local/lib/python3.7/dist-packages (from requests->transformers) (3.0.4)\n",
            "Requirement already satisfied: urllib3!=1.25.0,!=1.25.1,<1.26,>=1.21.1 in /usr/local/lib/python3.7/dist-packages (from requests->transformers) (1.24.3)\n",
            "Requirement already satisfied: click in /usr/local/lib/python3.7/dist-packages (from sacremoses->transformers) (7.1.2)\n",
            "Requirement already satisfied: joblib in /usr/local/lib/python3.7/dist-packages (from sacremoses->transformers) (1.1.0)\n",
            "Requirement already satisfied: six in /usr/local/lib/python3.7/dist-packages (from sacremoses->transformers) (1.15.0)\n",
            "Installing collected packages: pyyaml, tokenizers, sacremoses, huggingface-hub, transformers\n",
            "  Attempting uninstall: pyyaml\n",
            "    Found existing installation: PyYAML 3.13\n",
            "    Uninstalling PyYAML-3.13:\n",
            "      Successfully uninstalled PyYAML-3.13\n",
            "Successfully installed huggingface-hub-0.4.0 pyyaml-6.0 sacremoses-0.0.49 tokenizers-0.11.6 transformers-4.17.0\n",
            "Collecting tensorflow_text\n",
            "  Downloading tensorflow_text-2.8.1-cp37-cp37m-manylinux_2_12_x86_64.manylinux2010_x86_64.whl (4.9 MB)\n",
            "\u001b[K     |████████████████████████████████| 4.9 MB 34.0 MB/s \n",
            "\u001b[?25hRequirement already satisfied: tensorflow<2.9,>=2.8.0 in /usr/local/lib/python3.7/dist-packages (from tensorflow_text) (2.8.0)\n",
            "Requirement already satisfied: tensorflow-hub>=0.8.0 in /usr/local/lib/python3.7/dist-packages (from tensorflow_text) (0.12.0)\n",
            "Requirement already satisfied: typing-extensions>=3.6.6 in /usr/local/lib/python3.7/dist-packages (from tensorflow<2.9,>=2.8.0->tensorflow_text) (3.10.0.2)\n",
            "Requirement already satisfied: libclang>=9.0.1 in /usr/local/lib/python3.7/dist-packages (from tensorflow<2.9,>=2.8.0->tensorflow_text) (13.0.0)\n",
            "Requirement already satisfied: termcolor>=1.1.0 in /usr/local/lib/python3.7/dist-packages (from tensorflow<2.9,>=2.8.0->tensorflow_text) (1.1.0)\n",
            "Requirement already satisfied: keras-preprocessing>=1.1.1 in /usr/local/lib/python3.7/dist-packages (from tensorflow<2.9,>=2.8.0->tensorflow_text) (1.1.2)\n",
            "Requirement already satisfied: tensorflow-io-gcs-filesystem>=0.23.1 in /usr/local/lib/python3.7/dist-packages (from tensorflow<2.9,>=2.8.0->tensorflow_text) (0.24.0)\n",
            "Requirement already satisfied: astunparse>=1.6.0 in /usr/local/lib/python3.7/dist-packages (from tensorflow<2.9,>=2.8.0->tensorflow_text) (1.6.3)\n",
            "Requirement already satisfied: grpcio<2.0,>=1.24.3 in /usr/local/lib/python3.7/dist-packages (from tensorflow<2.9,>=2.8.0->tensorflow_text) (1.44.0)\n",
            "Requirement already satisfied: opt-einsum>=2.3.2 in /usr/local/lib/python3.7/dist-packages (from tensorflow<2.9,>=2.8.0->tensorflow_text) (3.3.0)\n",
            "Requirement already satisfied: keras<2.9,>=2.8.0rc0 in /usr/local/lib/python3.7/dist-packages (from tensorflow<2.9,>=2.8.0->tensorflow_text) (2.8.0)\n",
            "Requirement already satisfied: h5py>=2.9.0 in /usr/local/lib/python3.7/dist-packages (from tensorflow<2.9,>=2.8.0->tensorflow_text) (3.1.0)\n",
            "Requirement already satisfied: wrapt>=1.11.0 in /usr/local/lib/python3.7/dist-packages (from tensorflow<2.9,>=2.8.0->tensorflow_text) (1.14.0)\n",
            "Collecting tf-estimator-nightly==2.8.0.dev2021122109\n",
            "  Downloading tf_estimator_nightly-2.8.0.dev2021122109-py2.py3-none-any.whl (462 kB)\n",
            "\u001b[K     |████████████████████████████████| 462 kB 72.0 MB/s \n",
            "\u001b[?25hRequirement already satisfied: absl-py>=0.4.0 in /usr/local/lib/python3.7/dist-packages (from tensorflow<2.9,>=2.8.0->tensorflow_text) (1.0.0)\n",
            "Requirement already satisfied: six>=1.12.0 in /usr/local/lib/python3.7/dist-packages (from tensorflow<2.9,>=2.8.0->tensorflow_text) (1.15.0)\n",
            "Requirement already satisfied: gast>=0.2.1 in /usr/local/lib/python3.7/dist-packages (from tensorflow<2.9,>=2.8.0->tensorflow_text) (0.5.3)\n",
            "Requirement already satisfied: tensorboard<2.9,>=2.8 in /usr/local/lib/python3.7/dist-packages (from tensorflow<2.9,>=2.8.0->tensorflow_text) (2.8.0)\n",
            "Requirement already satisfied: google-pasta>=0.1.1 in /usr/local/lib/python3.7/dist-packages (from tensorflow<2.9,>=2.8.0->tensorflow_text) (0.2.0)\n",
            "Requirement already satisfied: protobuf>=3.9.2 in /usr/local/lib/python3.7/dist-packages (from tensorflow<2.9,>=2.8.0->tensorflow_text) (3.17.3)\n",
            "Requirement already satisfied: numpy>=1.20 in /usr/local/lib/python3.7/dist-packages (from tensorflow<2.9,>=2.8.0->tensorflow_text) (1.21.5)\n",
            "Requirement already satisfied: flatbuffers>=1.12 in /usr/local/lib/python3.7/dist-packages (from tensorflow<2.9,>=2.8.0->tensorflow_text) (2.0)\n",
            "Requirement already satisfied: setuptools in /usr/local/lib/python3.7/dist-packages (from tensorflow<2.9,>=2.8.0->tensorflow_text) (57.4.0)\n",
            "Requirement already satisfied: wheel<1.0,>=0.23.0 in /usr/local/lib/python3.7/dist-packages (from astunparse>=1.6.0->tensorflow<2.9,>=2.8.0->tensorflow_text) (0.37.1)\n",
            "Requirement already satisfied: cached-property in /usr/local/lib/python3.7/dist-packages (from h5py>=2.9.0->tensorflow<2.9,>=2.8.0->tensorflow_text) (1.5.2)\n",
            "Requirement already satisfied: tensorboard-data-server<0.7.0,>=0.6.0 in /usr/local/lib/python3.7/dist-packages (from tensorboard<2.9,>=2.8->tensorflow<2.9,>=2.8.0->tensorflow_text) (0.6.1)\n",
            "Requirement already satisfied: markdown>=2.6.8 in /usr/local/lib/python3.7/dist-packages (from tensorboard<2.9,>=2.8->tensorflow<2.9,>=2.8.0->tensorflow_text) (3.3.6)\n",
            "Requirement already satisfied: google-auth-oauthlib<0.5,>=0.4.1 in /usr/local/lib/python3.7/dist-packages (from tensorboard<2.9,>=2.8->tensorflow<2.9,>=2.8.0->tensorflow_text) (0.4.6)\n",
            "Requirement already satisfied: tensorboard-plugin-wit>=1.6.0 in /usr/local/lib/python3.7/dist-packages (from tensorboard<2.9,>=2.8->tensorflow<2.9,>=2.8.0->tensorflow_text) (1.8.1)\n",
            "Requirement already satisfied: requests<3,>=2.21.0 in /usr/local/lib/python3.7/dist-packages (from tensorboard<2.9,>=2.8->tensorflow<2.9,>=2.8.0->tensorflow_text) (2.23.0)\n",
            "Requirement already satisfied: werkzeug>=0.11.15 in /usr/local/lib/python3.7/dist-packages (from tensorboard<2.9,>=2.8->tensorflow<2.9,>=2.8.0->tensorflow_text) (1.0.1)\n",
            "Requirement already satisfied: google-auth<3,>=1.6.3 in /usr/local/lib/python3.7/dist-packages (from tensorboard<2.9,>=2.8->tensorflow<2.9,>=2.8.0->tensorflow_text) (1.35.0)\n",
            "Requirement already satisfied: rsa<5,>=3.1.4 in /usr/local/lib/python3.7/dist-packages (from google-auth<3,>=1.6.3->tensorboard<2.9,>=2.8->tensorflow<2.9,>=2.8.0->tensorflow_text) (4.8)\n",
            "Requirement already satisfied: cachetools<5.0,>=2.0.0 in /usr/local/lib/python3.7/dist-packages (from google-auth<3,>=1.6.3->tensorboard<2.9,>=2.8->tensorflow<2.9,>=2.8.0->tensorflow_text) (4.2.4)\n",
            "Requirement already satisfied: pyasn1-modules>=0.2.1 in /usr/local/lib/python3.7/dist-packages (from google-auth<3,>=1.6.3->tensorboard<2.9,>=2.8->tensorflow<2.9,>=2.8.0->tensorflow_text) (0.2.8)\n",
            "Requirement already satisfied: requests-oauthlib>=0.7.0 in /usr/local/lib/python3.7/dist-packages (from google-auth-oauthlib<0.5,>=0.4.1->tensorboard<2.9,>=2.8->tensorflow<2.9,>=2.8.0->tensorflow_text) (1.3.1)\n",
            "Requirement already satisfied: importlib-metadata>=4.4 in /usr/local/lib/python3.7/dist-packages (from markdown>=2.6.8->tensorboard<2.9,>=2.8->tensorflow<2.9,>=2.8.0->tensorflow_text) (4.11.3)\n",
            "Requirement already satisfied: zipp>=0.5 in /usr/local/lib/python3.7/dist-packages (from importlib-metadata>=4.4->markdown>=2.6.8->tensorboard<2.9,>=2.8->tensorflow<2.9,>=2.8.0->tensorflow_text) (3.7.0)\n",
            "Requirement already satisfied: pyasn1<0.5.0,>=0.4.6 in /usr/local/lib/python3.7/dist-packages (from pyasn1-modules>=0.2.1->google-auth<3,>=1.6.3->tensorboard<2.9,>=2.8->tensorflow<2.9,>=2.8.0->tensorflow_text) (0.4.8)\n",
            "Requirement already satisfied: idna<3,>=2.5 in /usr/local/lib/python3.7/dist-packages (from requests<3,>=2.21.0->tensorboard<2.9,>=2.8->tensorflow<2.9,>=2.8.0->tensorflow_text) (2.10)\n",
            "Requirement already satisfied: chardet<4,>=3.0.2 in /usr/local/lib/python3.7/dist-packages (from requests<3,>=2.21.0->tensorboard<2.9,>=2.8->tensorflow<2.9,>=2.8.0->tensorflow_text) (3.0.4)\n",
            "Requirement already satisfied: certifi>=2017.4.17 in /usr/local/lib/python3.7/dist-packages (from requests<3,>=2.21.0->tensorboard<2.9,>=2.8->tensorflow<2.9,>=2.8.0->tensorflow_text) (2021.10.8)\n",
            "Requirement already satisfied: urllib3!=1.25.0,!=1.25.1,<1.26,>=1.21.1 in /usr/local/lib/python3.7/dist-packages (from requests<3,>=2.21.0->tensorboard<2.9,>=2.8->tensorflow<2.9,>=2.8.0->tensorflow_text) (1.24.3)\n",
            "Requirement already satisfied: oauthlib>=3.0.0 in /usr/local/lib/python3.7/dist-packages (from requests-oauthlib>=0.7.0->google-auth-oauthlib<0.5,>=0.4.1->tensorboard<2.9,>=2.8->tensorflow<2.9,>=2.8.0->tensorflow_text) (3.2.0)\n",
            "Installing collected packages: tf-estimator-nightly, tensorflow-text\n",
            "Successfully installed tensorflow-text-2.8.1 tf-estimator-nightly-2.8.0.dev2021122109\n",
            "Collecting tensorflow-gpu\n",
            "  Downloading tensorflow_gpu-2.8.0-cp37-cp37m-manylinux2010_x86_64.whl (497.5 MB)\n",
            "\u001b[K     |████████████████████████████████| 497.5 MB 23 kB/s \n",
            "\u001b[?25hRequirement already satisfied: grpcio<2.0,>=1.24.3 in /usr/local/lib/python3.7/dist-packages (from tensorflow-gpu) (1.44.0)\n",
            "Requirement already satisfied: protobuf>=3.9.2 in /usr/local/lib/python3.7/dist-packages (from tensorflow-gpu) (3.17.3)\n",
            "Requirement already satisfied: absl-py>=0.4.0 in /usr/local/lib/python3.7/dist-packages (from tensorflow-gpu) (1.0.0)\n",
            "Requirement already satisfied: tensorboard<2.9,>=2.8 in /usr/local/lib/python3.7/dist-packages (from tensorflow-gpu) (2.8.0)\n",
            "Requirement already satisfied: termcolor>=1.1.0 in /usr/local/lib/python3.7/dist-packages (from tensorflow-gpu) (1.1.0)\n",
            "Requirement already satisfied: tf-estimator-nightly==2.8.0.dev2021122109 in /usr/local/lib/python3.7/dist-packages (from tensorflow-gpu) (2.8.0.dev2021122109)\n",
            "Requirement already satisfied: typing-extensions>=3.6.6 in /usr/local/lib/python3.7/dist-packages (from tensorflow-gpu) (3.10.0.2)\n",
            "Requirement already satisfied: astunparse>=1.6.0 in /usr/local/lib/python3.7/dist-packages (from tensorflow-gpu) (1.6.3)\n",
            "Requirement already satisfied: six>=1.12.0 in /usr/local/lib/python3.7/dist-packages (from tensorflow-gpu) (1.15.0)\n",
            "Requirement already satisfied: keras<2.9,>=2.8.0rc0 in /usr/local/lib/python3.7/dist-packages (from tensorflow-gpu) (2.8.0)\n",
            "Requirement already satisfied: flatbuffers>=1.12 in /usr/local/lib/python3.7/dist-packages (from tensorflow-gpu) (2.0)\n",
            "Requirement already satisfied: gast>=0.2.1 in /usr/local/lib/python3.7/dist-packages (from tensorflow-gpu) (0.5.3)\n",
            "Requirement already satisfied: wrapt>=1.11.0 in /usr/local/lib/python3.7/dist-packages (from tensorflow-gpu) (1.14.0)\n",
            "Requirement already satisfied: setuptools in /usr/local/lib/python3.7/dist-packages (from tensorflow-gpu) (57.4.0)\n",
            "Requirement already satisfied: opt-einsum>=2.3.2 in /usr/local/lib/python3.7/dist-packages (from tensorflow-gpu) (3.3.0)\n",
            "Requirement already satisfied: tensorflow-io-gcs-filesystem>=0.23.1 in /usr/local/lib/python3.7/dist-packages (from tensorflow-gpu) (0.24.0)\n",
            "Requirement already satisfied: keras-preprocessing>=1.1.1 in /usr/local/lib/python3.7/dist-packages (from tensorflow-gpu) (1.1.2)\n",
            "Requirement already satisfied: libclang>=9.0.1 in /usr/local/lib/python3.7/dist-packages (from tensorflow-gpu) (13.0.0)\n",
            "Requirement already satisfied: numpy>=1.20 in /usr/local/lib/python3.7/dist-packages (from tensorflow-gpu) (1.21.5)\n",
            "Requirement already satisfied: h5py>=2.9.0 in /usr/local/lib/python3.7/dist-packages (from tensorflow-gpu) (3.1.0)\n",
            "Requirement already satisfied: google-pasta>=0.1.1 in /usr/local/lib/python3.7/dist-packages (from tensorflow-gpu) (0.2.0)\n",
            "Requirement already satisfied: wheel<1.0,>=0.23.0 in /usr/local/lib/python3.7/dist-packages (from astunparse>=1.6.0->tensorflow-gpu) (0.37.1)\n",
            "Requirement already satisfied: cached-property in /usr/local/lib/python3.7/dist-packages (from h5py>=2.9.0->tensorflow-gpu) (1.5.2)\n",
            "Requirement already satisfied: tensorboard-plugin-wit>=1.6.0 in /usr/local/lib/python3.7/dist-packages (from tensorboard<2.9,>=2.8->tensorflow-gpu) (1.8.1)\n",
            "Requirement already satisfied: google-auth-oauthlib<0.5,>=0.4.1 in /usr/local/lib/python3.7/dist-packages (from tensorboard<2.9,>=2.8->tensorflow-gpu) (0.4.6)\n",
            "Requirement already satisfied: markdown>=2.6.8 in /usr/local/lib/python3.7/dist-packages (from tensorboard<2.9,>=2.8->tensorflow-gpu) (3.3.6)\n",
            "Requirement already satisfied: requests<3,>=2.21.0 in /usr/local/lib/python3.7/dist-packages (from tensorboard<2.9,>=2.8->tensorflow-gpu) (2.23.0)\n",
            "Requirement already satisfied: werkzeug>=0.11.15 in /usr/local/lib/python3.7/dist-packages (from tensorboard<2.9,>=2.8->tensorflow-gpu) (1.0.1)\n",
            "Requirement already satisfied: google-auth<3,>=1.6.3 in /usr/local/lib/python3.7/dist-packages (from tensorboard<2.9,>=2.8->tensorflow-gpu) (1.35.0)\n",
            "Requirement already satisfied: tensorboard-data-server<0.7.0,>=0.6.0 in /usr/local/lib/python3.7/dist-packages (from tensorboard<2.9,>=2.8->tensorflow-gpu) (0.6.1)\n",
            "Requirement already satisfied: pyasn1-modules>=0.2.1 in /usr/local/lib/python3.7/dist-packages (from google-auth<3,>=1.6.3->tensorboard<2.9,>=2.8->tensorflow-gpu) (0.2.8)\n",
            "Requirement already satisfied: cachetools<5.0,>=2.0.0 in /usr/local/lib/python3.7/dist-packages (from google-auth<3,>=1.6.3->tensorboard<2.9,>=2.8->tensorflow-gpu) (4.2.4)\n",
            "Requirement already satisfied: rsa<5,>=3.1.4 in /usr/local/lib/python3.7/dist-packages (from google-auth<3,>=1.6.3->tensorboard<2.9,>=2.8->tensorflow-gpu) (4.8)\n",
            "Requirement already satisfied: requests-oauthlib>=0.7.0 in /usr/local/lib/python3.7/dist-packages (from google-auth-oauthlib<0.5,>=0.4.1->tensorboard<2.9,>=2.8->tensorflow-gpu) (1.3.1)\n",
            "Requirement already satisfied: importlib-metadata>=4.4 in /usr/local/lib/python3.7/dist-packages (from markdown>=2.6.8->tensorboard<2.9,>=2.8->tensorflow-gpu) (4.11.3)\n",
            "Requirement already satisfied: zipp>=0.5 in /usr/local/lib/python3.7/dist-packages (from importlib-metadata>=4.4->markdown>=2.6.8->tensorboard<2.9,>=2.8->tensorflow-gpu) (3.7.0)\n",
            "Requirement already satisfied: pyasn1<0.5.0,>=0.4.6 in /usr/local/lib/python3.7/dist-packages (from pyasn1-modules>=0.2.1->google-auth<3,>=1.6.3->tensorboard<2.9,>=2.8->tensorflow-gpu) (0.4.8)\n",
            "Requirement already satisfied: idna<3,>=2.5 in /usr/local/lib/python3.7/dist-packages (from requests<3,>=2.21.0->tensorboard<2.9,>=2.8->tensorflow-gpu) (2.10)\n",
            "Requirement already satisfied: chardet<4,>=3.0.2 in /usr/local/lib/python3.7/dist-packages (from requests<3,>=2.21.0->tensorboard<2.9,>=2.8->tensorflow-gpu) (3.0.4)\n",
            "Requirement already satisfied: urllib3!=1.25.0,!=1.25.1,<1.26,>=1.21.1 in /usr/local/lib/python3.7/dist-packages (from requests<3,>=2.21.0->tensorboard<2.9,>=2.8->tensorflow-gpu) (1.24.3)\n",
            "Requirement already satisfied: certifi>=2017.4.17 in /usr/local/lib/python3.7/dist-packages (from requests<3,>=2.21.0->tensorboard<2.9,>=2.8->tensorflow-gpu) (2021.10.8)\n",
            "Requirement already satisfied: oauthlib>=3.0.0 in /usr/local/lib/python3.7/dist-packages (from requests-oauthlib>=0.7.0->google-auth-oauthlib<0.5,>=0.4.1->tensorboard<2.9,>=2.8->tensorflow-gpu) (3.2.0)\n",
            "Installing collected packages: tensorflow-gpu\n",
            "Successfully installed tensorflow-gpu-2.8.0\n"
          ]
        }
      ],
      "source": [
        "!pip install transformers\n",
        "!pip install -U -q PyDrive\n",
        "!pip install tensorflow_text\n",
        "!pip install --upgrade tensorflow-gpu"
      ],
      "id": "xVFFHYq19l_H"
    },
    {
      "cell_type": "code",
      "execution_count": 3,
      "metadata": {
        "id": "aea72d8e"
      },
      "outputs": [],
      "source": [
        "# For File Handling\n",
        "import csv\n",
        "import os\n",
        "import io\n",
        "from os.path import join, exists\n",
        "\n",
        "# For Data\n",
        "import pandas as pd\n",
        "import numpy as np\n",
        "\n",
        "# For Processing\n",
        "import re\n",
        "import nltk\n",
        "import string\n",
        "\n",
        "# For Plotting\n",
        "%matplotlib inline\n",
        "import matplotlib.pyplot as plt\n",
        "import seaborn as sns\n",
        "from tqdm.notebook import tqdm\n",
        "import random\n",
        "# For Word Embeddings\n",
        "import gensim\n",
        "import gensim.downloader as gensim_api\n",
        "\n",
        "# For Deep Learning\n",
        "from tensorflow import keras\n",
        "import tensorflow.compat.v1 as tf\n",
        "from tensorflow.keras import Model, models, layers, preprocessing\n",
        "from tensorflow.keras.callbacks import EarlyStopping, ModelCheckpoint\n",
        "from tensorflow.keras.optimizers import Adam\n",
        "from tensorflow.keras import backend as K\n",
        "from tensorflow.keras.utils import get_file\n",
        "from tensorflow.keras.layers import Concatenate, GlobalAveragePooling1D, GlobalMaxPool1D, Embedding, Dense, Input, Dropout, Reshape, BatchNormalization, TimeDistributed, Lambda, Layer, LSTM, Bidirectional, Convolution1D, GRU, add, concatenate\n",
        "from tensorflow.keras.preprocessing.text import Tokenizer\n",
        "from tensorflow.keras.models import Sequential\n",
        "import tensorflow_hub as hub\n",
        "import tensorflow_text as text\n",
        "# Bert language model\n",
        "import transformers\n",
        "from transformers import TFAutoModel, AutoTokenizer, BertConfig, TFBertModel\n",
        "# For Model Visualisation\n",
        "import pydotplus\n",
        "import pydot\n",
        "import graphviz\n",
        "#from keras.utils.vis_utils import model_to_dot\n",
        "#For torch\n",
        "import torch\n",
        "import torch.nn as nn\n",
        "import torch.nn.functional as F\n",
        "import torch.optim as optim\n",
        "#keras.utils.vis_utils.pydot = pydot\n",
        "from pydrive.auth import GoogleAuth\n",
        "from pydrive.drive import GoogleDrive\n",
        "from google.colab import auth\n",
        "from oauth2client.client import GoogleCredentials\n",
        "# Miscellaneous \n",
        "import warnings\n",
        "warnings.filterwarnings('ignore')"
      ],
      "id": "aea72d8e"
    },
    {
      "cell_type": "code",
      "execution_count": 4,
      "metadata": {
        "id": "mIptRCY5Abua"
      },
      "outputs": [],
      "source": [
        "# Authenticate and create the PyDrive client.\n",
        "auth.authenticate_user()\n",
        "gauth = GoogleAuth()\n",
        "gauth.credentials = GoogleCredentials.get_application_default()\n",
        "drive = GoogleDrive(gauth)"
      ],
      "id": "mIptRCY5Abua"
    },
    {
      "cell_type": "code",
      "execution_count": 5,
      "metadata": {
        "colab": {
          "base_uri": "https://localhost:8080/"
        },
        "id": "fzccgMkjIqQ-",
        "outputId": "69bb6483-fa4c-48ae-eec1-3a83dc506cbd"
      },
      "outputs": [
        {
          "output_type": "stream",
          "name": "stdout",
          "text": [
            "Mounted at /content/drive\n"
          ]
        }
      ],
      "source": [
        "from google.colab import drive\n",
        "drive.mount('/content/drive')"
      ],
      "id": "fzccgMkjIqQ-"
    },
    {
      "cell_type": "code",
      "execution_count": 4,
      "metadata": {
        "id": "Q3Cv4X5IJQZz"
      },
      "outputs": [],
      "source": [
        ""
      ],
      "id": "Q3Cv4X5IJQZz"
    },
    {
      "cell_type": "code",
      "execution_count": 6,
      "metadata": {
        "id": "823b2237"
      },
      "outputs": [],
      "source": [
        "#Reading csv data to python dataframe\n",
        "train_df= pd.read_json(\"/content/drive/MyDrive/dataset/snli_1.0_train.jsonl\", lines=True)\n",
        "val_df= pd.read_json(\"/content/drive/MyDrive/dataset/snli_1.0_dev.jsonl\", lines=True)\n",
        "test_df=  pd.read_json(\"/content/drive/MyDrive/dataset/snli_1.0_test.jsonl\", lines=True)"
      ],
      "id": "823b2237"
    },
    {
      "cell_type": "code",
      "execution_count": 7,
      "metadata": {
        "id": "213401bf"
      },
      "outputs": [],
      "source": [
        "train_df = train_df[train_df['gold_label'] != \"-\"]\n",
        "val_df= val_df[val_df['gold_label'] != \"-\"]\n",
        "test_df= test_df[test_df['gold_label'] != \"-\"]"
      ],
      "id": "213401bf"
    },
    {
      "cell_type": "markdown",
      "metadata": {
        "id": "16859bd4"
      },
      "source": [
        "## Download GloVe"
      ],
      "id": "16859bd4"
    },
    {
      "cell_type": "code",
      "execution_count": 7,
      "metadata": {
        "colab": {
          "base_uri": "https://localhost:8080/",
          "height": 107
        },
        "id": "78125fd9",
        "outputId": "bc48697b-3ba5-4a73-f8af-136ee4a0959a"
      },
      "outputs": [
        {
          "output_type": "execute_result",
          "data": {
            "text/plain": [
              "'\\ndata_folder = \\'./datasets\\'\\nglove_url = \\'http://nlp.stanford.edu/data/glove.840B.300d.zip\\'\\nembedding_dim = 300\\nglove_filename = \\'glove.840B.\\' + str(embedding_dim) + \\'d.zip\\'\\nglove_loc = join(data_folder, glove_filename)\\n\\nglove_filename = \"/content/drive/MyDrive/dataset/glove.840B.300d.txt\"\\n\\nembeddings = {}\\n\\nprint(\\'Extract %s\\' % glove_filename)\\nwith open(glove_filename, \\'r\\') as f:\\n    for line in f:\\n        values = line.split(\\' \\')\\n        word = values[0]\\n        embedding = np.asarray(values[1:], dtype=\\'float32\\')\\n        embeddings[word] = embedding\\n        \\nprint(\\'Embeddings size: %d\\' % len(embeddings))\\n'"
            ],
            "application/vnd.google.colaboratory.intrinsic+json": {
              "type": "string"
            }
          },
          "metadata": {},
          "execution_count": 7
        }
      ],
      "source": [
        "'''\n",
        "data_folder = './datasets'\n",
        "glove_url = 'http://nlp.stanford.edu/data/glove.840B.300d.zip'\n",
        "embedding_dim = 300\n",
        "glove_filename = 'glove.840B.' + str(embedding_dim) + 'd.zip'\n",
        "glove_loc = join(data_folder, glove_filename)\n",
        "\n",
        "glove_filename = \"/content/drive/MyDrive/dataset/glove.840B.300d.txt\"\n",
        "\n",
        "embeddings = {}\n",
        "\n",
        "print('Extract %s' % glove_filename)\n",
        "with open(glove_filename, 'r') as f:\n",
        "    for line in f:\n",
        "        values = line.split(' ')\n",
        "        word = values[0]\n",
        "        embedding = np.asarray(values[1:], dtype='float32')\n",
        "        embeddings[word] = embedding\n",
        "        \n",
        "print('Embeddings size: %d' % len(embeddings))\n",
        "'''"
      ],
      "id": "78125fd9"
    },
    {
      "cell_type": "code",
      "execution_count": 8,
      "metadata": {
        "id": "8bfed267",
        "outputId": "ba52fe4b-5359-4773-ab1a-80c9d02ea933",
        "colab": {
          "base_uri": "https://localhost:8080/"
        }
      },
      "outputs": [
        {
          "output_type": "execute_result",
          "data": {
            "text/plain": [
              "annotator_labels                                                  [neutral]\n",
              "captionID                                                  3416050480.jpg#4\n",
              "gold_label                                                          neutral\n",
              "pairID                                                  3416050480.jpg#4r1n\n",
              "sentence1                 A person on a horse jumps over a broken down a...\n",
              "sentence1_binary_parse    ( ( ( A person ) ( on ( a horse ) ) ) ( ( jump...\n",
              "sentence1_parse           (ROOT (S (NP (NP (DT A) (NN person)) (PP (IN o...\n",
              "sentence2                 A person is training his horse for a competition.\n",
              "sentence2_binary_parse    ( ( A person ) ( ( is ( ( training ( his horse...\n",
              "sentence2_parse           (ROOT (S (NP (DT A) (NN person)) (VP (VBZ is) ...\n",
              "Name: 0, dtype: object"
            ]
          },
          "metadata": {},
          "execution_count": 8
        }
      ],
      "source": [
        "train_df.iloc[0]"
      ],
      "id": "8bfed267"
    },
    {
      "cell_type": "code",
      "execution_count": 9,
      "metadata": {
        "id": "8cd88ffa"
      },
      "outputs": [],
      "source": [
        "train_df_features = train_df[['sentence1', 'sentence2', 'gold_label']]\n",
        "val_df_features = val_df[['sentence1', 'sentence2', 'gold_label']]\n",
        "test_df_features = test_df[['sentence1', 'sentence2', 'gold_label']]"
      ],
      "id": "8cd88ffa"
    },
    {
      "cell_type": "code",
      "execution_count": 10,
      "metadata": {
        "id": "d4e3c483",
        "outputId": "9fd2ff25-8f8b-4db1-cec7-53bc415dede5",
        "colab": {
          "base_uri": "https://localhost:8080/"
        }
      },
      "outputs": [
        {
          "output_type": "execute_result",
          "data": {
            "text/plain": [
              "sentence1     A person on a horse jumps over a broken down a...\n",
              "sentence2     A person is training his horse for a competition.\n",
              "gold_label                                              neutral\n",
              "Name: 0, dtype: object"
            ]
          },
          "metadata": {},
          "execution_count": 10
        }
      ],
      "source": [
        "train_df_features.iloc[0]"
      ],
      "id": "d4e3c483"
    },
    {
      "cell_type": "code",
      "execution_count": 11,
      "metadata": {
        "id": "faaec50b",
        "outputId": "8d7c47b4-f82b-43dc-c62d-5e2f6f11fc07",
        "colab": {
          "base_uri": "https://localhost:8080/"
        }
      },
      "outputs": [
        {
          "output_type": "execute_result",
          "data": {
            "text/plain": [
              "sentence1     Two women are embracing while holding to go pa...\n",
              "sentence2     The sisters are hugging goodbye while holding ...\n",
              "gold_label                                              neutral\n",
              "Name: 0, dtype: object"
            ]
          },
          "metadata": {},
          "execution_count": 11
        }
      ],
      "source": [
        "val_df_features.iloc[0]"
      ],
      "id": "faaec50b"
    },
    {
      "cell_type": "code",
      "execution_count": 12,
      "metadata": {
        "id": "91b9b29e",
        "outputId": "d9de3f9d-6f2b-490c-c715-6dcf9e4a75a7",
        "colab": {
          "base_uri": "https://localhost:8080/"
        }
      },
      "outputs": [
        {
          "output_type": "execute_result",
          "data": {
            "text/plain": [
              "sentence1     This church choir sings to the masses as they ...\n",
              "sentence2                 The church has cracks in the ceiling.\n",
              "gold_label                                              neutral\n",
              "Name: 0, dtype: object"
            ]
          },
          "metadata": {},
          "execution_count": 12
        }
      ],
      "source": [
        "test_df_features.iloc[0]"
      ],
      "id": "91b9b29e"
    },
    {
      "cell_type": "code",
      "execution_count": 13,
      "metadata": {
        "id": "d777e6ba",
        "outputId": "18b0c2ca-489b-43c7-92b0-2058fb1f498a",
        "colab": {
          "base_uri": "https://localhost:8080/"
        }
      },
      "outputs": [
        {
          "output_type": "stream",
          "name": "stdout",
          "text": [
            "549367\n",
            "9842\n",
            "9824\n"
          ]
        }
      ],
      "source": [
        "print(len(train_df_features))\n",
        "print(len(val_df_features))\n",
        "print(len(test_df_features))"
      ],
      "id": "d777e6ba"
    },
    {
      "cell_type": "code",
      "source": [
        "## LENGTH OF SENTENCES\n",
        "for data in [train_df_features, val_df_features, test_df_features]:\n",
        "    data['sent1_length'] = data.loc[:, 'sentence1'].str.len()\n",
        "    data['sent2_length'] = data.loc[:, 'sentence2'].str.len()\n",
        "\n",
        "plt.figure(figsize=(8, 6))\n",
        "sns.distplot(train_df_features['sent1_length'], label = 'premise')\n",
        "sns.distplot(train_df_features['sent2_length'], label = 'hypothesis')\n",
        "plt.title('Length of the sentences')\n",
        "plt.xlabel('length')\n",
        "plt.ylabel('density')\n",
        "plt.legend()"
      ],
      "metadata": {
        "colab": {
          "base_uri": "https://localhost:8080/",
          "height": 422
        },
        "id": "FvRdezdp0Yks",
        "outputId": "c381f334-1248-4f7e-faaa-2ecc1d8d90c6"
      },
      "id": "FvRdezdp0Yks",
      "execution_count": 15,
      "outputs": [
        {
          "output_type": "execute_result",
          "data": {
            "text/plain": [
              "<matplotlib.legend.Legend at 0x7f406f5a9b10>"
            ]
          },
          "metadata": {},
          "execution_count": 15
        },
        {
          "output_type": "display_data",
          "data": {
            "text/plain": [
              "<Figure size 576x432 with 1 Axes>"
            ],
            "image/png": "[encoded data removed]"
          },
          "metadata": {
            "needs_background": "light"
          }
        }
      ]
    },
    {
      "cell_type": "markdown",
      "metadata": {
        "id": "dc2f072d"
      },
      "source": [
        "## DATA PREPROCESSING"
      ],
      "id": "dc2f072d"
    },
    {
      "cell_type": "code",
      "execution_count": 14,
      "metadata": {
        "id": "6b286566"
      },
      "outputs": [],
      "source": [
        "def cleansing_text(text):\n",
        "    # Remove punctuation and lower case\n",
        "    cleaned_text = re.sub(r'[^\\w\\s]', '', str(text).lower().strip())\n",
        "    return cleaned_text\n",
        "\n",
        "train_df_features[\"sentence1\"] = train_df_features[\"sentence1\"].apply(lambda x: cleansing_text(x))\n",
        "train_df_features[\"sentence2\"] = train_df_features[\"sentence2\"].apply(lambda x: cleansing_text(x))\n",
        "\n",
        "val_df_features[\"sentence1\"] = val_df_features[\"sentence1\"].apply(lambda x: cleansing_text(x))\n",
        "val_df_features[\"sentence2\"] = val_df_features[\"sentence2\"].apply(lambda x: cleansing_text(x))\n",
        "\n",
        "test_df_features[\"sentence1\"] = test_df_features[\"sentence1\"].apply(lambda x: cleansing_text(x))\n",
        "test_df_features[\"sentence2\"] = test_df_features[\"sentence2\"].apply(lambda x: cleansing_text(x))"
      ],
      "id": "6b286566"
    },
    {
      "cell_type": "code",
      "execution_count": 15,
      "metadata": {
        "id": "862cd61d"
      },
      "outputs": [],
      "source": [
        "input_df = list(train_df['sentence1']) + list(train_df['sentence2']) + list(val_df['sentence1']) + list(val_df['sentence2'])\n",
        "tokenizer = preprocessing.text.Tokenizer(oov_token=\"OOV\")\n",
        "tokenizer.fit_on_texts(input_df)\n",
        "word_index = tokenizer.word_index"
      ],
      "id": "862cd61d"
    },
    {
      "cell_type": "code",
      "execution_count": 16,
      "metadata": {
        "id": "01aa7047"
      },
      "outputs": [],
      "source": [
        "## CONVERT TEXT TO SEQUENCE FOR TENSOR\n",
        "def texts_to_sequences(texts):\n",
        "    return tokenizer.texts_to_sequences(texts)\n",
        "\n",
        "train_sequence_dict = dict()\n",
        "val_sequence_dict = dict()\n",
        "test_sequence_dict = dict()\n",
        "\n",
        "# Create Train sequences\n",
        "train_sequence_dict['sentence1'] = texts_to_sequences(train_df_features['sentence1'])\n",
        "train_sequence_dict['sentence2'] = texts_to_sequences(train_df_features['sentence2'])\n",
        "\n",
        "# Create Val sequences\n",
        "val_sequence_dict['sentence1'] = texts_to_sequences(val_df_features['sentence1'])\n",
        "val_sequence_dict['sentence2'] = texts_to_sequences(val_df_features['sentence2'])\n",
        "\n",
        "# Create test sequences\n",
        "test_sequence_dict['sentence1'] = texts_to_sequences(test_df_features['sentence1'])\n",
        "test_sequence_dict['sentence2'] = texts_to_sequences(test_df_features['sentence2'])"
      ],
      "id": "01aa7047"
    },
    {
      "cell_type": "markdown",
      "metadata": {
        "id": "bde597b6"
      },
      "source": [
        "## Word Embedding"
      ],
      "id": "bde597b6"
    },
    {
      "cell_type": "code",
      "source": [
        "embedding_model = gensim_api.load(\"word2vec-google-news-300\")"
      ],
      "metadata": {
        "colab": {
          "base_uri": "https://localhost:8080/"
        },
        "id": "Tbo7g8eX3xGi",
        "outputId": "dd301cd2-991d-43f0-b66e-0cee30578a3f"
      },
      "id": "Tbo7g8eX3xGi",
      "execution_count": 17,
      "outputs": [
        {
          "output_type": "stream",
          "name": "stdout",
          "text": [
            "[==================================================] 100.0% 1662.8/1662.8MB downloaded\n"
          ]
        }
      ]
    },
    {
      "cell_type": "code",
      "source": [
        "vector_size = 300\n",
        "\n",
        "# Length of vocabulary is added a 1 to account for the OOV token\n",
        "len_vocab = len(word_index)+1\n",
        "\n",
        "# Create embedding matrix (length of vocabulary x vector size)\n",
        "embeddings = np.zeros((len_vocab, vector_size))\n",
        "\n",
        "for word,idx in word_index.items():\n",
        "    # Update embeddings with pre-trained vectors if word exists\n",
        "    try:\n",
        "        embeddings[idx] = embedding_model[word]\n",
        "        \n",
        "    # If word does not exist, skip\n",
        "    except:\n",
        "        pass"
      ],
      "metadata": {
        "id": "RPWjCR8y36GF"
      },
      "id": "RPWjCR8y36GF",
      "execution_count": 18,
      "outputs": []
    },
    {
      "cell_type": "code",
      "execution_count": 19,
      "metadata": {
        "id": "81be9467"
      },
      "outputs": [],
      "source": [
        "embedding_dim = 300\n",
        "batch_size = 512"
      ],
      "id": "81be9467"
    },
    {
      "cell_type": "code",
      "execution_count": 19,
      "metadata": {
        "id": "2c1eac7a"
      },
      "outputs": [],
      "source": [
        ""
      ],
      "id": "2c1eac7a"
    },
    {
      "cell_type": "code",
      "execution_count": 20,
      "metadata": {
        "id": "a2e8abf8",
        "outputId": "cd33d772-05b8-48f0-c580-c8aa2e41ba1f",
        "colab": {
          "base_uri": "https://localhost:8080/"
        }
      },
      "outputs": [
        {
          "output_type": "execute_result",
          "data": {
            "text/plain": [
              "1118418"
            ]
          },
          "metadata": {},
          "execution_count": 20
        }
      ],
      "source": [
        "len(input_df)"
      ],
      "id": "a2e8abf8"
    },
    {
      "cell_type": "code",
      "execution_count": 20,
      "metadata": {
        "id": "f8c0f185"
      },
      "outputs": [],
      "source": [
        ""
      ],
      "id": "f8c0f185"
    },
    {
      "cell_type": "code",
      "execution_count": 21,
      "metadata": {
        "id": "9b9698d7",
        "outputId": "44ec249f-c5f6-4bf9-d4a1-8ecf51417d72",
        "colab": {
          "base_uri": "https://localhost:8080/"
        }
      },
      "outputs": [
        {
          "output_type": "stream",
          "name": "stdout",
          "text": [
            "Found 34607 unique tokens.\n"
          ]
        }
      ],
      "source": [
        "print('Found %s unique tokens.' % len(word_index))"
      ],
      "id": "9b9698d7"
    },
    {
      "cell_type": "code",
      "execution_count": 22,
      "metadata": {
        "id": "451864b5",
        "colab": {
          "base_uri": "https://localhost:8080/",
          "height": 71
        },
        "outputId": "b1f924b5-efbc-4cc0-871a-09348bb2f12f"
      },
      "outputs": [
        {
          "output_type": "execute_result",
          "data": {
            "text/plain": [
              "'\\nwords_len = min(NUM_WORDS, len(word_index))\\n# word_embedding_matrix = np.zeros((words_len + 1, embedding_dim))\\nword_embedding_matrix = np.random.random((words_len + 1, embedding_dim))\\nk = 0\\nfor word, i in word_index.items():\\n    if i >= NUM_WORDS:\\n        continue\\n    embedding_vector = embeddings.get(word)\\n    if embedding_vector is not None:\\n        word_embedding_matrix[i] = embedding_vector\\n        k += 1\\n'"
            ],
            "application/vnd.google.colaboratory.intrinsic+json": {
              "type": "string"
            }
          },
          "metadata": {},
          "execution_count": 22
        }
      ],
      "source": [
        "'''\n",
        "words_len = min(NUM_WORDS, len(word_index))\n",
        "# word_embedding_matrix = np.zeros((words_len + 1, embedding_dim))\n",
        "word_embedding_matrix = np.random.random((words_len + 1, embedding_dim))\n",
        "k = 0\n",
        "for word, i in word_index.items():\n",
        "    if i >= NUM_WORDS:\n",
        "        continue\n",
        "    embedding_vector = embeddings.get(word)\n",
        "    if embedding_vector is not None:\n",
        "        word_embedding_matrix[i] = embedding_vector\n",
        "        k += 1\n",
        "'''"
      ],
      "id": "451864b5"
    },
    {
      "cell_type": "code",
      "execution_count": 23,
      "metadata": {
        "id": "7359ca03"
      },
      "outputs": [],
      "source": [
        "### PAD THE CREATED SUQUENCE\n",
        "max_seq_length = 50\n",
        "def pad_sequences(sequences, maxlen):\n",
        "    return preprocessing.sequence.pad_sequences(sequences, maxlen=maxlen, padding=\"post\", truncating=\"post\")\n",
        "\n",
        "# Pad Train Sequences\n",
        "train_sequence_dict['sentence1_padded'] = pad_sequences(train_sequence_dict['sentence1'], maxlen=max_seq_length)\n",
        "train_sequence_dict['sentence2_padded'] = pad_sequences(train_sequence_dict['sentence2'], maxlen=max_seq_length)\n",
        "\n",
        "# Pad Val Sequences\n",
        "val_sequence_dict['sentence1_padded'] = pad_sequences(val_sequence_dict['sentence1'], maxlen=max_seq_length)\n",
        "val_sequence_dict['sentence2_padded'] = pad_sequences(val_sequence_dict['sentence2'], maxlen=max_seq_length)\n",
        "\n",
        "# Pad test Sequences\n",
        "test_sequence_dict['sentence1_padded'] = pad_sequences(test_sequence_dict['sentence1'], maxlen=max_seq_length)\n",
        "test_sequence_dict['sentence2_padded'] = pad_sequences(test_sequence_dict['sentence2'], maxlen=max_seq_length)"
      ],
      "id": "7359ca03"
    },
    {
      "cell_type": "code",
      "execution_count": 24,
      "metadata": {
        "id": "f277dcb4"
      },
      "outputs": [],
      "source": [
        "### LABEL ENCODING\n",
        "label_index = {\n",
        "    \"entailment\": 0,\n",
        "    \"neutral\": 1,\n",
        "    \"contradiction\": 2,\n",
        "}\n",
        "\n",
        "def indexify_label(label):\n",
        "    return label_index[label]\n",
        "\n",
        "train_sequence_dict[\"label_index\"] = train_df_features[\"gold_label\"].apply(lambda x: indexify_label(x))\n",
        "val_sequence_dict[\"label_index\"] = val_df_features[\"gold_label\"].apply(lambda x: indexify_label(x))\n",
        "test_sequence_dict[\"label_index\"] = test_df_features[\"gold_label\"].apply(lambda x: indexify_label(x))"
      ],
      "id": "f277dcb4"
    },
    {
      "cell_type": "code",
      "execution_count": 25,
      "metadata": {
        "id": "8b9c20b1",
        "outputId": "497980ce-f530-4cd7-a07d-96dcb9d0c056",
        "colab": {
          "base_uri": "https://localhost:8080/"
        }
      },
      "outputs": [
        {
          "output_type": "execute_result",
          "data": {
            "text/plain": [
              "1"
            ]
          },
          "metadata": {},
          "execution_count": 25
        }
      ],
      "source": [
        "indexify_label(\"neutral\")"
      ],
      "id": "8b9c20b1"
    },
    {
      "cell_type": "code",
      "execution_count": 26,
      "metadata": {
        "id": "864a6b3f"
      },
      "outputs": [],
      "source": [
        "# Model Training Inputs\n",
        "t_1 = train_sequence_dict['sentence1_padded']\n",
        "t_2 = train_sequence_dict['sentence2_padded']\n",
        "t_y = train_sequence_dict['label_index']\n",
        "\n",
        "# Model Validation Inputs\n",
        "v_1 = val_sequence_dict['sentence1_padded']\n",
        "v_2 = val_sequence_dict['sentence2_padded']\n",
        "v_y = val_sequence_dict['label_index']"
      ],
      "id": "864a6b3f"
    },
    {
      "cell_type": "code",
      "source": [
        ""
      ],
      "metadata": {
        "id": "vXH_-a8i_IxE"
      },
      "id": "vXH_-a8i_IxE",
      "execution_count": 26,
      "outputs": []
    },
    {
      "cell_type": "code",
      "source": [
        "# Function to return an embedding layer\n",
        "def embedding_layer(name, embeddings, num_nodes=16):\n",
        "    return models.Sequential(\n",
        "        [\n",
        "            # Embedding Layer\n",
        "            layers.Embedding(\n",
        "                embeddings.shape[0],\n",
        "                embeddings.shape[1],\n",
        "                input_length=max_seq_length,\n",
        "                weights=[embeddings],\n",
        "                trainable=False,\n",
        "            ),\n",
        "        ], name=name)\n",
        "\n",
        "\n",
        "# Function to return a feed-forward layer\n",
        "def feed_forward_layer(name, num_nodes=200, activation=\"relu\", dropout_rate=0):\n",
        "    return models.Sequential(\n",
        "        [\n",
        "            layers.Dense(num_nodes, activation=activation),\n",
        "            layers.Dropout(dropout_rate),\n",
        "            layers.Dense(num_nodes, activation=activation),\n",
        "            layers.Dropout(dropout_rate),\n",
        "        ], name=name)\n",
        "\n",
        "# Function to carry out normalisation for soft-alignment\n",
        "def normalizer(axis):\n",
        "    def _normalize(vector_similarities):\n",
        "        exp_weights = K.exp(vector_similarities)\n",
        "        sum_weights = K.sum(exp_weights, axis=axis, keepdims=True)\n",
        "        return exp_weights / sum_weights\n",
        "\n",
        "    return _normalize\n",
        "\n",
        "# Function to sum and return an aggregated vector\n",
        "def aggregater(x):\n",
        "    return K.sum(x, axis=1, keepdims=False)"
      ],
      "metadata": {
        "id": "csUw-W6XVr2u"
      },
      "id": "csUw-W6XVr2u",
      "execution_count": 27,
      "outputs": []
    },
    {
      "cell_type": "code",
      "source": [
        "def bilstm_layer(name, num_nodes=200, activation=\"relu\", dropout_rate=0):\n",
        "    return layers.Bidirectional(\n",
        "            layers.LSTM(num_nodes, return_sequences=True, dropout=dropout_rate, activation=activation),\n",
        "        name=name)"
      ],
      "metadata": {
        "id": "ZnvaUH3o855e"
      },
      "id": "ZnvaUH3o855e",
      "execution_count": 28,
      "outputs": []
    },
    {
      "cell_type": "code",
      "source": [
        "# Function to combine layers together and return the final dam_bilstm model\n",
        "def build_dam_bilstm_model(num_nodes):\n",
        "      \n",
        "    # Input Layer\n",
        "    x1 = layers.Input(shape=(max_seq_length,), name=\"Input_x1\")\n",
        "    x2 = layers.Input(shape=(max_seq_length,), name=\"Input_x2\")\n",
        "    \n",
        "    # Embedding Layer\n",
        "    embedding = embedding_layer(\"Embedding\", embeddings)\n",
        "    e1 = embedding(x1)\n",
        "    e2 = embedding(x2)\n",
        "        \n",
        "    # -> Pass each word through a FFN with RelU activations to yield a non-linear transformation.\n",
        "    feedforward_F = feed_forward_layer(\"FF_F\", num_nodes, dropout_rate= 0.1)\n",
        "    x1_nonlinear = feedforward_F(e1)\n",
        "    x2_nonlinear = feedforward_F(e2)\n",
        "    \n",
        "    # -> Compute pairwise word similarity between every word in x1 compared to every word in x2, and vice versa.\n",
        "    vector_similarities = layers.dot([x1_nonlinear, layers.Permute((2,1))(x2_nonlinear)], axes=(2,1), name=\"Pairwise_Similarity\")\n",
        "    \n",
        "    # -> Compute Soft-Attention\n",
        "    norm_similarities_x1 = layers.Lambda(normalizer(1), name=\"Normalise_Similarities_x1\")(vector_similarities)\n",
        "    norm_similarities_x2 = layers.Lambda(normalizer(2), name=\"Normalise_Similarities_x2\")(vector_similarities)\n",
        "    alpha = layers.dot([norm_similarities_x2, e1], axes=1, name=\"Alpha\")\n",
        "    beta = layers.dot([norm_similarities_x1, e2], axes=1, name=\"Beta\")\n",
        "        \n",
        "    # Compare\n",
        "    comp1 = layers.concatenate([e1, beta], name=\"Concat_x1_beta\")\n",
        "    comp2 = layers.concatenate([e2, alpha], name=\"Concat_x2_alpha\")\n",
        "    \n",
        "    # BiLSTM_G isntead of FFN_G\n",
        "    bilstm_G = bilstm_layer(\"BiLSTM_G\", num_nodes=num_nodes, dropout_rate= 0)\n",
        "    v1 = bilstm_G(comp1)\n",
        "    v2 = bilstm_G(comp2)\n",
        "    \n",
        "    # Aggregate\n",
        "    v1_sum = layers.Lambda(aggregater, name=\"Aggregate_v1\")(v1)\n",
        "    v2_sum = layers.Lambda(aggregater, name=\"Aggregate_v2\")(v2)\n",
        "    concat = layers.concatenate([v1_sum, v2_sum], name=\"Concat_v1_v2\")\n",
        "    \n",
        "    # Output Layer\n",
        "    feedforward_H = feed_forward_layer(\"FF_H\", num_nodes, dropout_rate= 0.1)\n",
        "    y = feedforward_H(concat)\n",
        "    y = layers.Dense(3, activation=\"softmax\", name=\"Output\")(y)\n",
        "        \n",
        "    model = Model(inputs=[x1, x2], outputs=y)\n",
        "    \n",
        "    model.compile(\n",
        "        loss=\"sparse_categorical_crossentropy\",\n",
        "        metrics=[\"accuracy\"],\n",
        "        optimizer=Adam(lr=0.0005),\n",
        "    )\n",
        "\n",
        "    return model"
      ],
      "metadata": {
        "id": "g0uCbK3-9byH"
      },
      "id": "g0uCbK3-9byH",
      "execution_count": 29,
      "outputs": []
    },
    {
      "cell_type": "code",
      "source": [
        "dam_bilstm_model = build_dam_bilstm_model(200)\n",
        "dam_bilstm_model.summary()"
      ],
      "metadata": {
        "colab": {
          "base_uri": "https://localhost:8080/"
        },
        "id": "TYs8_si8Hdzz",
        "outputId": "cd0ff8d2-e8b2-4790-dfa9-1e845ccb7ffb"
      },
      "id": "TYs8_si8Hdzz",
      "execution_count": 30,
      "outputs": [
        {
          "output_type": "stream",
          "name": "stdout",
          "text": [
            "WARNING:tensorflow:Layer lstm will not use cuDNN kernels since it doesn't meet the criteria. It will use a generic GPU kernel as fallback when running on GPU.\n",
            "WARNING:tensorflow:Layer lstm will not use cuDNN kernels since it doesn't meet the criteria. It will use a generic GPU kernel as fallback when running on GPU.\n",
            "WARNING:tensorflow:Layer lstm will not use cuDNN kernels since it doesn't meet the criteria. It will use a generic GPU kernel as fallback when running on GPU.\n",
            "Model: \"model\"\n",
            "__________________________________________________________________________________________________\n",
            " Layer (type)                   Output Shape         Param #     Connected to                     \n",
            "==================================================================================================\n",
            " Input_x1 (InputLayer)          [(None, 50)]         0           []                               \n",
            "                                                                                                  \n",
            " Input_x2 (InputLayer)          [(None, 50)]         0           []                               \n",
            "                                                                                                  \n",
            " Embedding (Sequential)         (None, 50, 300)      10382400    ['Input_x1[0][0]',               \n",
            "                                                                  'Input_x2[0][0]']               \n",
            "                                                                                                  \n",
            " FF_F (Sequential)              (None, 50, 200)      100400      ['Embedding[0][0]',              \n",
            "                                                                  'Embedding[1][0]']              \n",
            "                                                                                                  \n",
            " permute (Permute)              (None, 200, 50)      0           ['FF_F[1][0]']                   \n",
            "                                                                                                  \n",
            " Pairwise_Similarity (Dot)      (None, 50, 50)       0           ['FF_F[0][0]',                   \n",
            "                                                                  'permute[0][0]']                \n",
            "                                                                                                  \n",
            " Normalise_Similarities_x1 (Lam  (None, 50, 50)      0           ['Pairwise_Similarity[0][0]']    \n",
            " bda)                                                                                             \n",
            "                                                                                                  \n",
            " Normalise_Similarities_x2 (Lam  (None, 50, 50)      0           ['Pairwise_Similarity[0][0]']    \n",
            " bda)                                                                                             \n",
            "                                                                                                  \n",
            " Beta (Dot)                     (None, 50, 300)      0           ['Normalise_Similarities_x1[0][0]\n",
            "                                                                 ',                               \n",
            "                                                                  'Embedding[1][0]']              \n",
            "                                                                                                  \n",
            " Alpha (Dot)                    (None, 50, 300)      0           ['Normalise_Similarities_x2[0][0]\n",
            "                                                                 ',                               \n",
            "                                                                  'Embedding[0][0]']              \n",
            "                                                                                                  \n",
            " Concat_x1_beta (Concatenate)   (None, 50, 600)      0           ['Embedding[0][0]',              \n",
            "                                                                  'Beta[0][0]']                   \n",
            "                                                                                                  \n",
            " Concat_x2_alpha (Concatenate)  (None, 50, 600)      0           ['Embedding[1][0]',              \n",
            "                                                                  'Alpha[0][0]']                  \n",
            "                                                                                                  \n",
            " BiLSTM_G (Bidirectional)       (None, 50, 400)      1281600     ['Concat_x1_beta[0][0]',         \n",
            "                                                                  'Concat_x2_alpha[0][0]']        \n",
            "                                                                                                  \n",
            " Aggregate_v1 (Lambda)          (None, 400)          0           ['BiLSTM_G[0][0]']               \n",
            "                                                                                                  \n",
            " Aggregate_v2 (Lambda)          (None, 400)          0           ['BiLSTM_G[1][0]']               \n",
            "                                                                                                  \n",
            " Concat_v1_v2 (Concatenate)     (None, 800)          0           ['Aggregate_v1[0][0]',           \n",
            "                                                                  'Aggregate_v2[0][0]']           \n",
            "                                                                                                  \n",
            " FF_H (Sequential)              (None, 200)          200400      ['Concat_v1_v2[0][0]']           \n",
            "                                                                                                  \n",
            " Output (Dense)                 (None, 3)            603         ['FF_H[0][0]']                   \n",
            "                                                                                                  \n",
            "==================================================================================================\n",
            "Total params: 11,965,403\n",
            "Trainable params: 1,583,003\n",
            "Non-trainable params: 10,382,400\n",
            "__________________________________________________________________________________________________\n"
          ]
        }
      ]
    },
    {
      "cell_type": "code",
      "source": [
        "monitor = EarlyStopping(monitor='val_loss', patience = 5)\n",
        "#dam_bilstm_checkpointer = ModelCheckpoint(filepath=dam_bilstm_save_file, save_best_only=True)\n",
        "# Train DAM BiLSTM model\n",
        "trained_dam_bilstm_model = dam_bilstm_model.fit(\n",
        "    [t_1, t_2], t_y,\n",
        "    validation_data=([v_1, v_2], v_y),\n",
        "    callbacks=[monitor],\n",
        "    batch_size=512,\n",
        "    epochs=50,\n",
        ")"
      ],
      "metadata": {
        "colab": {
          "base_uri": "https://localhost:8080/"
        },
        "id": "jt3rCkmkHgn_",
        "outputId": "39f7dd24-f6b0-4fb4-fe99-0197db6c66d7"
      },
      "id": "jt3rCkmkHgn_",
      "execution_count": 31,
      "outputs": [
        {
          "output_type": "stream",
          "name": "stdout",
          "text": [
            "Epoch 1/50\n",
            "1073/1073 [==============================] - 298s 272ms/step - loss: 0.6855 - accuracy: 0.7037 - val_loss: 0.5059 - val_accuracy: 0.8024\n",
            "Epoch 2/50\n",
            "1073/1073 [==============================] - 292s 272ms/step - loss: 0.5177 - accuracy: 0.7945 - val_loss: 0.4503 - val_accuracy: 0.8234\n",
            "Epoch 3/50\n",
            "1073/1073 [==============================] - 291s 271ms/step - loss: 0.4709 - accuracy: 0.8161 - val_loss: 0.4300 - val_accuracy: 0.8309\n",
            "Epoch 4/50\n",
            "1073/1073 [==============================] - 292s 272ms/step - loss: 0.4400 - accuracy: 0.8297 - val_loss: 0.4192 - val_accuracy: 0.8404\n",
            "Epoch 5/50\n",
            "1073/1073 [==============================] - 290s 271ms/step - loss: 0.4150 - accuracy: 0.8406 - val_loss: 0.4182 - val_accuracy: 0.8435\n",
            "Epoch 6/50\n",
            "1073/1073 [==============================] - 290s 271ms/step - loss: 0.3936 - accuracy: 0.8501 - val_loss: 0.4092 - val_accuracy: 0.8438\n",
            "Epoch 7/50\n",
            "1073/1073 [==============================] - 291s 272ms/step - loss: 0.3732 - accuracy: 0.8582 - val_loss: 0.4108 - val_accuracy: 0.8454\n",
            "Epoch 8/50\n",
            "1073/1073 [==============================] - 292s 272ms/step - loss: 0.3547 - accuracy: 0.8660 - val_loss: 0.4054 - val_accuracy: 0.8518\n",
            "Epoch 9/50\n",
            "1073/1073 [==============================] - 291s 271ms/step - loss: 0.3361 - accuracy: 0.8742 - val_loss: 0.8705 - val_accuracy: 0.8485\n",
            "Epoch 10/50\n",
            "1073/1073 [==============================] - 287s 268ms/step - loss: 0.3189 - accuracy: 0.8806 - val_loss: 0.4114 - val_accuracy: 0.8498\n",
            "Epoch 11/50\n",
            "1073/1073 [==============================] - 287s 267ms/step - loss: 0.3076 - accuracy: 0.8850 - val_loss: 0.4269 - val_accuracy: 0.8430\n",
            "Epoch 12/50\n",
            "1073/1073 [==============================] - 288s 268ms/step - loss: 0.2921 - accuracy: 0.8909 - val_loss: 0.4292 - val_accuracy: 0.8473\n",
            "Epoch 13/50\n",
            "1073/1073 [==============================] - 290s 270ms/step - loss: 0.2718 - accuracy: 0.8993 - val_loss: 0.4518 - val_accuracy: 0.8456\n"
          ]
        }
      ]
    },
    {
      "cell_type": "code",
      "source": [
        "metrics = [k for k in trained_dam_bilstm_model.history.keys() if (\"loss\" not in k) and (\"val\" not in k)]\n",
        "fig, ax = plt.subplots(nrows=1, ncols=2, constrained_layout=True, figsize=(8,4), dpi= 100)\n",
        "fig.suptitle(\"BILSTM Model\", fontsize=13)\n",
        "\n",
        "ax[0].set(title=\"Training\")\n",
        "ax11 = ax[0].twinx()\n",
        "ax[0].plot(trained_dam_bilstm_model.history['loss'], color='black')\n",
        "ax[0].set_xlabel('Epochs')\n",
        "ax[0].set_ylabel('Loss', color='black')\n",
        "for metric in metrics:\n",
        "    ax11.plot(trained_dam_bilstm_model.history[metric], label=metric)\n",
        "ax11.set_ylabel(\"Score\", color='steelblue')\n",
        "ax11.legend()\n",
        "\n",
        "ax[1].set(title=\"Validation\")\n",
        "ax22 = ax[1].twinx()\n",
        "ax[1].plot(trained_dam_bilstm_model.history['val_loss'], color='black')\n",
        "ax[1].set_xlabel('Epochs')\n",
        "ax[1].set_ylabel('Loss', color='black')\n",
        "for metric in metrics:\n",
        "     ax22.plot(trained_dam_bilstm_model.history['val_'+metric], label=metric)\n",
        "ax22.set_ylabel(\"Score\", color=\"steelblue\")\n",
        "plt.show()"
      ],
      "metadata": {
        "colab": {
          "base_uri": "https://localhost:8080/",
          "height": 428
        },
        "id": "yRbbFqEUIEUa",
        "outputId": "dbe8900a-80eb-4042-8b7c-a44e03db865d"
      },
      "id": "yRbbFqEUIEUa",
      "execution_count": 32,
      "outputs": [
        {
          "output_type": "display_data",
          "data": {
            "text/plain": [
              "<Figure size 800x400 with 4 Axes>"
            ],
            "image/png": "[encoded data removed]"
          },
          "metadata": {
            "needs_background": "light"
          }
        }
      ]
    },
    {
      "cell_type": "code",
      "source": [
        ""
      ],
      "metadata": {
        "id": "jAQOn5b4WcQo"
      },
      "id": "jAQOn5b4WcQo",
      "execution_count": 32,
      "outputs": []
    },
    {
      "cell_type": "code",
      "source": [
        ""
      ],
      "metadata": {
        "id": "k9P5TdDPqWW-"
      },
      "id": "k9P5TdDPqWW-",
      "execution_count": 32,
      "outputs": []
    },
    {
      "cell_type": "code",
      "source": [
        "class SelfAttention_Module(nn.Module):\n",
        "    def __init__(self, hidden_dim, use_BN=False, dropout_rate=0.0):\n",
        "        super(SelfAttention_Module, self).__init__()\n",
        "        def MLP(input_dim, output_dim, use_BN, dropout_rate):\n",
        "            layers = []\n",
        "            layers.append(nn.Linear(input_dim, output_dim))\n",
        "            if use_BN:\n",
        "                layers.append(nn.BatchNorm1d(output_dim, affine=True))\n",
        "            layers.append(nn.ReLU())\n",
        "            layers.append(nn.Dropout(p=dropout_rate))\n",
        "\n",
        "            layers.append(nn.Linear(output_dim, output_dim))\n",
        "            layers.append(nn.ReLU())\n",
        "\n",
        "            mlp = nn.Sequential(*layers)\n",
        "\n",
        "            return mlp\n",
        "        \n",
        "        self.hidden_dim = hidden_dim\n",
        "        self.F = MLP(hidden_dim, hidden_dim, use_BN, dropout_rate)\n",
        "        self.G = MLP(hidden_dim * 2, hidden_dim, use_BN, dropout_rate)\n",
        "        self.H = MLP(hidden_dim * 2, hidden_dim, use_BN, dropout_rate)\n",
        "        #self.LSTM = nn.LSTM(input_size=hidden_dim, hidden_size=hidden_dim, num_layers=1, batch_first=True)\n",
        "        \n",
        "    def forward(self, a, b):\n",
        "        l_a = a.shape[1]\n",
        "        l_b = b.shape[1]\n",
        "        \n",
        "        a = self.F(a.view(-1, self.hidden_dim)) # a: ((batch_size * l_a) x hidden_dim)\n",
        "        a = a.view(-1, l_a, self.hidden_dim) # a: (batch_size x l_a x hidden_dim)\n",
        "        b = self.F(b.view(-1, self.hidden_dim))  # b: ((batch_size * l_b) x hidden_dim)\n",
        "        b = b.view(-1, l_b, self.hidden_dim) # b: (batch_size x l_b x hidden_dim)\n",
        "        \n",
        "        # equation (1) in paper:\n",
        "        e = torch.bmm(a, torch.transpose(b, 1, 2)) # e: (batch_size x l_a x l_b)\n",
        "        \n",
        "        # equation (2) in paper:\n",
        "        beta = torch.bmm(F.softmax(e, dim=2), b)  # beta: (batch_size x l_a x hidden_dim)\n",
        "        alpha = torch.bmm(F.softmax(torch.transpose(e, 1, 2), dim=2), a) # alpha: (batch_size x l_b x hidden_dim)\n",
        "        \n",
        "        \n",
        "        # equation (3) in paper:\n",
        "        a_cat_beta = torch.cat((a, beta), dim=2)\n",
        "        b_cat_alpha = torch.cat((b, alpha), dim=2)\n",
        "        v1 = self.G(a_cat_beta.view(-1, 2 * self.hidden_dim)) # v1: ((batch_size * l_a) x hidden_dim)\n",
        "        v2 = self.G(b_cat_alpha.view(-1, 2 * self.hidden_dim)) # v2: ((batch_size * l_b) x hidden_dim)\n",
        "        \n",
        "        # equation (4) in paper:\n",
        "        v1 = torch.sum(v1.view(-1, l_a, self.hidden_dim), dim=1) # v1: (batch_size x 1 x hidden_dim)\n",
        "        v2 = torch.sum(v2.view(-1, l_b, self.hidden_dim), dim=1) # v2: (batch_size x 1 x hidden_dim)\n",
        "        \n",
        "        v1 = torch.squeeze(v1, dim=1)\n",
        "        v2 = torch.squeeze(v2, dim=1)\n",
        "        \n",
        "        # equation (5) in paper:\n",
        "        v1_cat_v2 = torch.cat((v1, v2), dim=1) # v1_cat_v2: (batch_size x (hidden_dim * 2))\n",
        "        h = self.H(v1_cat_v2)\n",
        "        \n",
        "        return h"
      ],
      "metadata": {
        "id": "c97XK7wEWcjY"
      },
      "id": "c97XK7wEWcjY",
      "execution_count": 5,
      "outputs": []
    },
    {
      "cell_type": "code",
      "source": [
        "class LSTM_Module(nn.Module):\n",
        "    def __init__(self, hidden_dim, num_layers=2, bidirectional=True, dropout_rate=0.0):\n",
        "        super(LSTM_Module, self).__init__()\n",
        "        self.num_layers = num_layers\n",
        "        self.num_directions = bidirectional + 1\n",
        "        self.hidden_dim = hidden_dim\n",
        "        \n",
        "        self.LSTM = nn.LSTM(input_size=hidden_dim, hidden_size=hidden_dim, num_layers=num_layers, batch_first=True, bidirectional=bidirectional, dropout=dropout_rate)\n",
        "        self.fc = nn.Linear(hidden_dim * self.num_directions * self.num_layers * 2, hidden_dim)\n",
        "        \n",
        "    def forward(self, a, b):\n",
        "        _, (_, v1) = self.LSTM(a)\n",
        "        _, (_, v2) = self.LSTM(b)\n",
        "        \n",
        "#         v1 = torch.squeeze(v1, dim=0)\n",
        "#         v2 = torch.squeeze(v2, dim=0)\n",
        "        v1 = v1.permute(1, 0, 2).contiguous().view((-1, self.hidden_dim * self.num_directions * self.num_layers))\n",
        "        v2 = v2.permute(1, 0, 2).contiguous().view((-1, self.hidden_dim * self.num_directions * self.num_layers))\n",
        "        \n",
        "        v1_cat_v2 = torch.cat((v1, v2), dim=1) # v1_cat_v2: (batch_size x (hidden_dim * 2))\n",
        "        h = self.fc(v1_cat_v2)\n",
        "        h = F.relu(h)\n",
        "        \n",
        "        return h"
      ],
      "metadata": {
        "id": "erYuwZ9Xfdkb"
      },
      "id": "erYuwZ9Xfdkb",
      "execution_count": 6,
      "outputs": []
    },
    {
      "cell_type": "code",
      "source": [
        "import h5py\n",
        "f = h5py.File(\"/content/drive/MyDrive/dataset/glove.hdf5\", 'r')\n",
        "wordvec_matrix = torch.from_numpy(np.array(f['word_vecs'], dtype=np.float32))"
      ],
      "metadata": {
        "id": "-O07UNc40vrr"
      },
      "id": "-O07UNc40vrr",
      "execution_count": 7,
      "outputs": []
    },
    {
      "cell_type": "code",
      "source": [
        "embedd_dim = wordvec_matrix.shape[1]\n",
        "embedd = nn.Embedding.from_pretrained(wordvec_matrix)"
      ],
      "metadata": {
        "id": "EZr7LqP90w1r"
      },
      "id": "EZr7LqP90w1r",
      "execution_count": 8,
      "outputs": []
    },
    {
      "cell_type": "code",
      "source": [
        "class Model(nn.Module):\n",
        "    def __init__(self, embedding_matrix, hidden_dim, feature_extractor='attention', use_BN=False, dropout_rate=0.0):\n",
        "        super(Model, self).__init__()\n",
        "        # embedding\n",
        "        self.embedding_dim = embedd_dim\n",
        "        self.hidden_dim = hidden_dim\n",
        "        self.embedding = embedd\n",
        "        \n",
        "        self.feature_extractor = feature_extractor\n",
        "        assert feature_extractor in ['attention', 'lstm']\n",
        "        if feature_extractor == 'attention':\n",
        "          self.feature_extractor_module = SelfAttention_Module(hidden_dim, use_BN, dropout_rate)\n",
        "        else:\n",
        "          self.feature_extractor_module = LSTM_Module(hidden_dim, dropout_rate=dropout_rate)\n",
        "        self.LSTM = nn.LSTM(input_size=self.embedding_dim, hidden_size=hidden_dim, num_layers=1, batch_first=True, bidirectional=False)\n",
        "        \n",
        "        \n",
        "        # linear transformation from embedding\n",
        "        self.input_fc = nn.Linear(self.embedding_dim, hidden_dim, bias=True)\n",
        "        # linear transformation to prediction\n",
        "        self.output_fc = nn.Linear(hidden_dim, 3, bias=True)\n",
        "        \n",
        "    def forward(self, a, b):\n",
        "        l_a = a.shape[1]\n",
        "        l_b = b.shape[1]\n",
        "        \n",
        "        a = self.embedding(a) # a: (batch_size x l_a x embedding_dim)\n",
        "        b = self.embedding(b) # b: (batch_size x l_b x embedding_dim)\n",
        "        \n",
        "        a = self.input_fc(a.view(-1, self.embedding_dim))\n",
        "        b = self.input_fc(b.view(-1, self.embedding_dim))\n",
        "        a = a.view(-1, l_a, self.hidden_dim) # a: (batch_size x l_a x hidden_dim)\n",
        "        b = b.view(-1, l_b, self.hidden_dim) # b: (batch_size x l_b x hidden_dim)\n",
        "        '''\n",
        "        else:\n",
        "            a, (_, _) = self.LSTM(a)\n",
        "            b, (_, _) = self.LSTM(b)\n",
        "            a = a.contiguous().view(-1, l_a, self.hidden_dim)\n",
        "            b = b.contiguous().view(-1, l_b, self.hidden_dim)\n",
        "        '''\n",
        "        h = self.feature_extractor_module(a, b)\n",
        "        \n",
        "        y_hat = self.output_fc(h)\n",
        "        \n",
        "        return y_hat"
      ],
      "metadata": {
        "id": "FGR08E5RWepV"
      },
      "id": "FGR08E5RWepV",
      "execution_count": 9,
      "outputs": []
    },
    {
      "cell_type": "code",
      "source": [
        "class SNLI_data(object):\n",
        "    '''\n",
        "        class to handle training data\n",
        "    '''\n",
        "\n",
        "    def __init__(self, fname, use_padding=True, batch_size=256):\n",
        "        self.use_padding = use_padding\n",
        "        self.batch_size = batch_size\n",
        "\n",
        "        f = h5py.File(fname, 'r')\n",
        "        self.source = torch.from_numpy(np.array(f['source'])) - 1\n",
        "        self.target = torch.from_numpy(np.array(f['target'])) - 1\n",
        "        \n",
        "        self.label = torch.from_numpy(np.array(f['label'])) - 1\n",
        "        self.label_size = torch.from_numpy(np.array(f['label_size']))\n",
        "        self.source_l = torch.from_numpy(np.array(f['source_l']))\n",
        "        self.target_l = torch.from_numpy(np.array(f['target_l'])) # max target length each batch\n",
        "        # idx in torch style; indicate the start index of each batch (starting\n",
        "        # with 1)\n",
        "        self.batch_idx = torch.from_numpy(np.array(f['batch_idx'])) - 1\n",
        "        self.batch_l = torch.from_numpy(np.array(f['batch_l']))\n",
        "\n",
        "        self.batches = []   # batches\n",
        "\n",
        "        self.length = self.batch_l.size(0)  # number of batches\n",
        "\n",
        "        self.size = 0   # number of sentences\n",
        "\n",
        "    def get_batches(self):\n",
        "        if self.use_padding:\n",
        "            self.batches = []\n",
        "            num_samples = self.source.shape[0]\n",
        "            idx = np.arange(num_samples)\n",
        "            np.random.shuffle(idx)\n",
        "            self.source = self.source[idx]\n",
        "            self.target = self.target[idx]\n",
        "            self.label = self.label[idx]\n",
        "            for i in range(0, num_samples - self.batch_size, self.batch_size):\n",
        "                batch = (self.source[i : i + self.batch_size].type(torch.LongTensor),\n",
        "                           self.target[i : i + self.batch_size].type(torch.LongTensor),\n",
        "                           self.label[i : i + self.batch_size].type(torch.LongTensor))\n",
        "                self.batches.append(batch)\n",
        "        else:\n",
        "            if self.batches == []:\n",
        "                for i in range(self.length):\n",
        "                    batch = (self.source[self.batch_idx[i] : self.batch_idx[i] + self.batch_l[i]][:, :self.source_l[i]].type(torch.LongTensor),\n",
        "                           self.target[self.batch_idx[i] : self.batch_idx[i] + self.batch_l[i]][:, :self.target_l[i]].type(torch.LongTensor),\n",
        "                           self.label[self.batch_idx[i] : self.batch_idx[i] + self.batch_l[i]].type(torch.LongTensor))\n",
        "                    self.batches.append(batch)\n",
        "                    self.size += self.batch_l[i]\n",
        "        return self.batches"
      ],
      "metadata": {
        "id": "E8_mBHx4xueT"
      },
      "id": "E8_mBHx4xueT",
      "execution_count": 10,
      "outputs": []
    },
    {
      "cell_type": "code",
      "source": [
        "use_padding = False\n",
        "train_data = SNLI_data(\"/content/drive/MyDrive/dataset/train.hdf5\", use_padding=use_padding)\n",
        "dev_data = SNLI_data(\"/content/drive/MyDrive/dataset/dev.hdf5\", use_padding=use_padding)\n",
        "test_data = SNLI_data(\"/content/drive/MyDrive/dataset/test.hdf5\", use_padding=use_padding)"
      ],
      "metadata": {
        "id": "ZqI0fY44f4pQ"
      },
      "id": "ZqI0fY44f4pQ",
      "execution_count": 11,
      "outputs": []
    },
    {
      "cell_type": "code",
      "source": [
        "if  torch.cuda.is_available():\n",
        "  device = torch.device(\"cuda\")\n",
        "else:\n",
        "  device = torch.device(\"cpu\")\n",
        "print(\"Found device: \", device)"
      ],
      "metadata": {
        "colab": {
          "base_uri": "https://localhost:8080/"
        },
        "id": "AyLD2MTfzZJv",
        "outputId": "c2df3ed0-bd65-4f8f-b94a-0b621c7d6b48"
      },
      "id": "AyLD2MTfzZJv",
      "execution_count": 12,
      "outputs": [
        {
          "output_type": "stream",
          "name": "stdout",
          "text": [
            "Found device:  cuda\n"
          ]
        }
      ]
    },
    {
      "cell_type": "code",
      "source": [
        "model_attention = Model(embedding_matrix=wordvec_matrix, hidden_dim=200, feature_extractor='attention', dropout_rate=0.2).to(device)\n",
        "optimizer = optim.Adam(model_attention.parameters(), lr=2e-4)"
      ],
      "metadata": {
        "id": "MKWKnY3FXSFn"
      },
      "id": "MKWKnY3FXSFn",
      "execution_count": 13,
      "outputs": []
    },
    {
      "cell_type": "code",
      "source": [
        "print(model_attention)"
      ],
      "metadata": {
        "colab": {
          "base_uri": "https://localhost:8080/"
        },
        "id": "BPBJY7Aoh8ZF",
        "outputId": "f365b7e1-fbf5-41ee-ed4d-da7088f2ae74"
      },
      "id": "BPBJY7Aoh8ZF",
      "execution_count": 14,
      "outputs": [
        {
          "output_type": "stream",
          "name": "stdout",
          "text": [
            "Model(\n",
            "  (embedding): Embedding(28754, 300)\n",
            "  (feature_extractor_module): SelfAttention_Module(\n",
            "    (F): Sequential(\n",
            "      (0): Linear(in_features=200, out_features=200, bias=True)\n",
            "      (1): ReLU()\n",
            "      (2): Dropout(p=0.2, inplace=False)\n",
            "      (3): Linear(in_features=200, out_features=200, bias=True)\n",
            "      (4): ReLU()\n",
            "    )\n",
            "    (G): Sequential(\n",
            "      (0): Linear(in_features=400, out_features=200, bias=True)\n",
            "      (1): ReLU()\n",
            "      (2): Dropout(p=0.2, inplace=False)\n",
            "      (3): Linear(in_features=200, out_features=200, bias=True)\n",
            "      (4): ReLU()\n",
            "    )\n",
            "    (H): Sequential(\n",
            "      (0): Linear(in_features=400, out_features=200, bias=True)\n",
            "      (1): ReLU()\n",
            "      (2): Dropout(p=0.2, inplace=False)\n",
            "      (3): Linear(in_features=200, out_features=200, bias=True)\n",
            "      (4): ReLU()\n",
            "    )\n",
            "  )\n",
            "  (LSTM): LSTM(300, 200, batch_first=True)\n",
            "  (input_fc): Linear(in_features=300, out_features=200, bias=True)\n",
            "  (output_fc): Linear(in_features=200, out_features=3, bias=True)\n",
            ")\n"
          ]
        }
      ]
    },
    {
      "cell_type": "code",
      "source": [
        "if not os.path.exists(\"./saved_model\"):\n",
        "  os.mkdir(\"./saved_model\")\n",
        "model_path = \"./saved_model/model_attention.pt\""
      ],
      "metadata": {
        "id": "HiKl3FZuYJqF"
      },
      "id": "HiKl3FZuYJqF",
      "execution_count": 15,
      "outputs": []
    },
    {
      "cell_type": "code",
      "source": [
        "def evaluate(model, data, device):\n",
        "    corrects = 0\n",
        "    num_samples = 0\n",
        "    batches = data.get_batches()\n",
        "    for i, batch in enumerate(batches):\n",
        "        source, target, label = batch\n",
        "        source = source.to(device)\n",
        "        target = target.to(device)\n",
        "        label = label.to(device)\n",
        "        \n",
        "        y_hat = model(source, target)\n",
        "        corrects += torch.sum(torch.argmax(y_hat, dim=1) == label).item()\n",
        "        num_samples += target.shape[0]\n",
        "    return corrects / num_samples"
      ],
      "metadata": {
        "id": "tBBklDYXZ9jf"
      },
      "id": "tBBklDYXZ9jf",
      "execution_count": 16,
      "outputs": []
    },
    {
      "cell_type": "code",
      "source": [
        "model_loss = []"
      ],
      "metadata": {
        "id": "cFTzUO0dEZ8F"
      },
      "id": "cFTzUO0dEZ8F",
      "execution_count": 17,
      "outputs": []
    },
    {
      "cell_type": "code",
      "source": [
        "def run(model, optimizer, train_data, dev_data, test_data, max_epochs, device, model_path):\n",
        "    accs = []\n",
        "    best_acc_test = 0\n",
        "    for epoch in range(1, max_epochs + 1):\n",
        "        print(\"epoch: \", epoch)\n",
        "        train_batches = train_data.get_batches()\n",
        "        random.shuffle(train_batches)\n",
        "        model.train()\n",
        "        corrects = 0\n",
        "        num_samples = 0\n",
        "        \n",
        "        for i, batch in enumerate(train_batches):\n",
        "            source, target, label = batch\n",
        "            source = source.to(device)\n",
        "            target = target.to(device)\n",
        "            label = label.to(device)\n",
        "\n",
        "            optimizer.zero_grad()\n",
        "            y_hat = model(source, target)\n",
        "            \n",
        "            # calculate the accuracy on training batch\n",
        "            corrects += torch.sum(torch.argmax(y_hat, dim=1) == label).item()\n",
        "            num_samples += target.shape[0]\n",
        "            \n",
        "            loss = torch.nn.CrossEntropyLoss()(y_hat, label)\n",
        "            \n",
        "            loss.backward()\n",
        "            optimizer.step()\n",
        "\n",
        "            if i % 1000 == 0:\n",
        "                print(\"{}/{}\\tLoss: {:.5f}\\tAccuracy: {:.5f}\".format(i, len(train_batches), loss, corrects / num_samples))\n",
        "        \n",
        "        # Calculate val accuracy        \n",
        "        model.eval()\n",
        "        print(\"Validation accuracy: {:.5f}\".format(evaluate(model, dev_data, device)))\n",
        "        model_loss.append(evaluate(model, dev_data, device))\n",
        "        \n",
        "        if corrects / num_samples > best_acc_test:\n",
        "            print(\"Save model at {}\".format(model_path))\n",
        "            torch.save(model, model_path)\n",
        "          \n",
        "    model = torch.load(model_path)\n",
        "    print(\"Test accuracy: {:.5f}\".format(evaluate(model, test_data, device)))"
      ],
      "metadata": {
        "id": "PR7gLe14gwNm"
      },
      "id": "PR7gLe14gwNm",
      "execution_count": 18,
      "outputs": []
    },
    {
      "cell_type": "code",
      "source": [
        "run(model=model_attention,  \\\n",
        "              optimizer=optimizer, \\\n",
        "              train_data=train_data, \\\n",
        "              dev_data=dev_data, \\\n",
        "              test_data=test_data, \\\n",
        "              max_epochs=20, \\\n",
        "              device=device, \\\n",
        "              model_path=model_path)"
      ],
      "metadata": {
        "colab": {
          "base_uri": "https://localhost:8080/"
        },
        "id": "b1oBiHa22Y-h",
        "outputId": "174709cf-af5c-44c6-d790-1f1d368b75ab"
      },
      "id": "b1oBiHa22Y-h",
      "execution_count": 19,
      "outputs": [
        {
          "output_type": "stream",
          "name": "stdout",
          "text": [
            "epoch:  1\n",
            "0/18183\tLoss: 1.09647\tAccuracy: 0.43750\n",
            "1000/18183\tLoss: 1.02236\tAccuracy: 0.42145\n",
            "2000/18183\tLoss: 0.17615\tAccuracy: 0.45541\n",
            "3000/18183\tLoss: 0.90990\tAccuracy: 0.46826\n",
            "4000/18183\tLoss: 0.79688\tAccuracy: 0.47961\n",
            "5000/18183\tLoss: 0.94694\tAccuracy: 0.49545\n",
            "6000/18183\tLoss: 0.93777\tAccuracy: 0.51019\n",
            "7000/18183\tLoss: 0.78926\tAccuracy: 0.52144\n",
            "8000/18183\tLoss: 1.05160\tAccuracy: 0.53120\n",
            "9000/18183\tLoss: 1.07212\tAccuracy: 0.53921\n",
            "10000/18183\tLoss: 0.61091\tAccuracy: 0.54662\n",
            "11000/18183\tLoss: 0.35746\tAccuracy: 0.55323\n",
            "12000/18183\tLoss: 0.85617\tAccuracy: 0.55913\n",
            "13000/18183\tLoss: 0.65404\tAccuracy: 0.56416\n",
            "14000/18183\tLoss: 0.73032\tAccuracy: 0.56865\n",
            "15000/18183\tLoss: 0.79760\tAccuracy: 0.57337\n",
            "16000/18183\tLoss: 0.96615\tAccuracy: 0.57759\n",
            "17000/18183\tLoss: 0.75193\tAccuracy: 0.58117\n",
            "18000/18183\tLoss: 0.73776\tAccuracy: 0.58460\n",
            "Validation accuracy: 0.65989\n",
            "Save model at ./saved_model/model_attention.pt\n",
            "epoch:  2\n",
            "0/18183\tLoss: 0.63246\tAccuracy: 0.78125\n",
            "1000/18183\tLoss: 0.92314\tAccuracy: 0.64953\n",
            "2000/18183\tLoss: 0.92518\tAccuracy: 0.65149\n",
            "3000/18183\tLoss: 0.82510\tAccuracy: 0.65399\n",
            "4000/18183\tLoss: 0.95153\tAccuracy: 0.65389\n",
            "5000/18183\tLoss: 0.63604\tAccuracy: 0.65561\n",
            "6000/18183\tLoss: 0.78469\tAccuracy: 0.65705\n",
            "7000/18183\tLoss: 0.68773\tAccuracy: 0.65879\n",
            "8000/18183\tLoss: 0.56288\tAccuracy: 0.66086\n",
            "9000/18183\tLoss: 0.79561\tAccuracy: 0.66332\n",
            "10000/18183\tLoss: 0.79700\tAccuracy: 0.66541\n",
            "11000/18183\tLoss: 0.71142\tAccuracy: 0.66731\n",
            "12000/18183\tLoss: 0.78646\tAccuracy: 0.66894\n",
            "13000/18183\tLoss: 0.81232\tAccuracy: 0.67094\n",
            "14000/18183\tLoss: 0.70598\tAccuracy: 0.67298\n",
            "15000/18183\tLoss: 0.44206\tAccuracy: 0.67496\n",
            "16000/18183\tLoss: 0.72109\tAccuracy: 0.67646\n",
            "17000/18183\tLoss: 0.82257\tAccuracy: 0.67802\n",
            "18000/18183\tLoss: 0.80327\tAccuracy: 0.67970\n",
            "Validation accuracy: 0.73194\n",
            "Save model at ./saved_model/model_attention.pt\n",
            "epoch:  3\n",
            "0/18183\tLoss: 0.66350\tAccuracy: 0.65625\n",
            "1000/18183\tLoss: 0.75240\tAccuracy: 0.71204\n",
            "2000/18183\tLoss: 0.60128\tAccuracy: 0.71386\n",
            "3000/18183\tLoss: 0.69559\tAccuracy: 0.71418\n",
            "4000/18183\tLoss: 0.64758\tAccuracy: 0.71484\n",
            "5000/18183\tLoss: 0.85728\tAccuracy: 0.71536\n",
            "6000/18183\tLoss: 0.51688\tAccuracy: 0.71660\n",
            "7000/18183\tLoss: 0.53411\tAccuracy: 0.71744\n",
            "8000/18183\tLoss: 0.61689\tAccuracy: 0.71835\n",
            "9000/18183\tLoss: 0.67897\tAccuracy: 0.71962\n",
            "10000/18183\tLoss: 0.78541\tAccuracy: 0.72062\n",
            "11000/18183\tLoss: 0.33835\tAccuracy: 0.72148\n",
            "12000/18183\tLoss: 0.50374\tAccuracy: 0.72273\n",
            "13000/18183\tLoss: 0.70195\tAccuracy: 0.72359\n",
            "14000/18183\tLoss: 0.71775\tAccuracy: 0.72441\n",
            "15000/18183\tLoss: 0.42236\tAccuracy: 0.72559\n",
            "16000/18183\tLoss: 0.13560\tAccuracy: 0.72683\n",
            "17000/18183\tLoss: 0.61568\tAccuracy: 0.72781\n",
            "18000/18183\tLoss: 0.41892\tAccuracy: 0.72877\n",
            "Validation accuracy: 0.76832\n",
            "Save model at ./saved_model/model_attention.pt\n",
            "epoch:  4\n",
            "0/18183\tLoss: 0.86639\tAccuracy: 0.53125\n",
            "1000/18183\tLoss: 0.89943\tAccuracy: 0.74502\n",
            "2000/18183\tLoss: 0.72677\tAccuracy: 0.74779\n",
            "3000/18183\tLoss: 0.54540\tAccuracy: 0.74789\n",
            "4000/18183\tLoss: 0.59754\tAccuracy: 0.74778\n",
            "5000/18183\tLoss: 0.58005\tAccuracy: 0.74897\n",
            "6000/18183\tLoss: 0.41833\tAccuracy: 0.74931\n",
            "7000/18183\tLoss: 0.51375\tAccuracy: 0.75032\n",
            "8000/18183\tLoss: 0.56290\tAccuracy: 0.75067\n",
            "9000/18183\tLoss: 0.55053\tAccuracy: 0.75128\n",
            "10000/18183\tLoss: 0.76851\tAccuracy: 0.75173\n",
            "11000/18183\tLoss: 0.49185\tAccuracy: 0.75220\n",
            "12000/18183\tLoss: 0.80446\tAccuracy: 0.75272\n",
            "13000/18183\tLoss: 0.64941\tAccuracy: 0.75350\n",
            "14000/18183\tLoss: 1.07740\tAccuracy: 0.75390\n",
            "15000/18183\tLoss: 0.73811\tAccuracy: 0.75430\n",
            "16000/18183\tLoss: 0.47918\tAccuracy: 0.75479\n",
            "17000/18183\tLoss: 0.60173\tAccuracy: 0.75491\n",
            "18000/18183\tLoss: 0.42055\tAccuracy: 0.75527\n",
            "Validation accuracy: 0.78772\n",
            "Save model at ./saved_model/model_attention.pt\n",
            "epoch:  5\n",
            "0/18183\tLoss: 0.33139\tAccuracy: 0.90625\n",
            "1000/18183\tLoss: 0.77219\tAccuracy: 0.76459\n",
            "2000/18183\tLoss: 0.57212\tAccuracy: 0.76734\n",
            "3000/18183\tLoss: 0.52786\tAccuracy: 0.76610\n",
            "4000/18183\tLoss: 0.51029\tAccuracy: 0.76659\n",
            "5000/18183\tLoss: 0.00669\tAccuracy: 0.76659\n",
            "6000/18183\tLoss: 0.62208\tAccuracy: 0.76726\n",
            "7000/18183\tLoss: 0.67371\tAccuracy: 0.76690\n",
            "8000/18183\tLoss: 0.35464\tAccuracy: 0.76744\n",
            "9000/18183\tLoss: 0.66432\tAccuracy: 0.76724\n",
            "10000/18183\tLoss: 0.77150\tAccuracy: 0.76755\n",
            "11000/18183\tLoss: 1.10991\tAccuracy: 0.76758\n",
            "12000/18183\tLoss: 0.44787\tAccuracy: 0.76774\n",
            "13000/18183\tLoss: 0.64428\tAccuracy: 0.76840\n",
            "14000/18183\tLoss: 0.60672\tAccuracy: 0.76863\n",
            "15000/18183\tLoss: 0.46543\tAccuracy: 0.76882\n",
            "16000/18183\tLoss: 0.70187\tAccuracy: 0.76890\n",
            "17000/18183\tLoss: 0.50710\tAccuracy: 0.76916\n",
            "18000/18183\tLoss: 0.64227\tAccuracy: 0.76952\n",
            "Validation accuracy: 0.79718\n",
            "Save model at ./saved_model/model_attention.pt\n",
            "epoch:  6\n",
            "0/18183\tLoss: 0.55705\tAccuracy: 0.78571\n",
            "1000/18183\tLoss: 0.39818\tAccuracy: 0.77785\n",
            "2000/18183\tLoss: 0.50724\tAccuracy: 0.77661\n",
            "3000/18183\tLoss: 0.09654\tAccuracy: 0.77637\n",
            "4000/18183\tLoss: 0.64603\tAccuracy: 0.77701\n",
            "5000/18183\tLoss: 0.83042\tAccuracy: 0.77690\n",
            "6000/18183\tLoss: 0.30836\tAccuracy: 0.77698\n",
            "7000/18183\tLoss: 0.49868\tAccuracy: 0.77706\n",
            "8000/18183\tLoss: 0.54635\tAccuracy: 0.77757\n",
            "9000/18183\tLoss: 0.51879\tAccuracy: 0.77761\n",
            "10000/18183\tLoss: 0.46785\tAccuracy: 0.77791\n",
            "11000/18183\tLoss: 0.39157\tAccuracy: 0.77807\n",
            "12000/18183\tLoss: 0.52297\tAccuracy: 0.77792\n",
            "13000/18183\tLoss: 0.40581\tAccuracy: 0.77816\n",
            "14000/18183\tLoss: 0.63433\tAccuracy: 0.77839\n",
            "15000/18183\tLoss: 0.50151\tAccuracy: 0.77866\n",
            "16000/18183\tLoss: 0.43942\tAccuracy: 0.77901\n",
            "17000/18183\tLoss: 0.58528\tAccuracy: 0.77923\n",
            "18000/18183\tLoss: 0.40459\tAccuracy: 0.77944\n",
            "Validation accuracy: 0.80724\n",
            "Save model at ./saved_model/model_attention.pt\n",
            "epoch:  7\n",
            "0/18183\tLoss: 0.61207\tAccuracy: 0.71875\n",
            "1000/18183\tLoss: 0.64781\tAccuracy: 0.78291\n",
            "2000/18183\tLoss: 0.57467\tAccuracy: 0.78616\n",
            "3000/18183\tLoss: 0.67322\tAccuracy: 0.78641\n",
            "4000/18183\tLoss: 0.68378\tAccuracy: 0.78547\n",
            "5000/18183\tLoss: 0.58708\tAccuracy: 0.78551\n",
            "6000/18183\tLoss: 0.84656\tAccuracy: 0.78578\n",
            "7000/18183\tLoss: 0.73774\tAccuracy: 0.78625\n",
            "8000/18183\tLoss: 0.71711\tAccuracy: 0.78589\n",
            "9000/18183\tLoss: 0.65651\tAccuracy: 0.78625\n",
            "10000/18183\tLoss: 0.51151\tAccuracy: 0.78645\n",
            "11000/18183\tLoss: 0.43767\tAccuracy: 0.78704\n",
            "12000/18183\tLoss: 0.35675\tAccuracy: 0.78703\n",
            "13000/18183\tLoss: 0.71156\tAccuracy: 0.78686\n",
            "14000/18183\tLoss: 0.52757\tAccuracy: 0.78698\n",
            "15000/18183\tLoss: 0.35593\tAccuracy: 0.78694\n",
            "16000/18183\tLoss: 0.49109\tAccuracy: 0.78701\n",
            "17000/18183\tLoss: 0.33578\tAccuracy: 0.78701\n",
            "18000/18183\tLoss: 0.50479\tAccuracy: 0.78715\n",
            "Validation accuracy: 0.81628\n",
            "Save model at ./saved_model/model_attention.pt\n",
            "epoch:  8\n",
            "0/18183\tLoss: 0.57201\tAccuracy: 0.75000\n",
            "1000/18183\tLoss: 0.52685\tAccuracy: 0.79138\n",
            "2000/18183\tLoss: 0.84293\tAccuracy: 0.79350\n",
            "3000/18183\tLoss: 0.55086\tAccuracy: 0.79229\n",
            "4000/18183\tLoss: 0.50314\tAccuracy: 0.79207\n",
            "5000/18183\tLoss: 0.58505\tAccuracy: 0.79231\n",
            "6000/18183\tLoss: 0.71642\tAccuracy: 0.79298\n",
            "7000/18183\tLoss: 0.51712\tAccuracy: 0.79261\n",
            "8000/18183\tLoss: 0.92413\tAccuracy: 0.79320\n",
            "9000/18183\tLoss: 0.49894\tAccuracy: 0.79248\n",
            "10000/18183\tLoss: 0.60268\tAccuracy: 0.79218\n",
            "11000/18183\tLoss: 0.44129\tAccuracy: 0.79227\n",
            "12000/18183\tLoss: 0.52737\tAccuracy: 0.79253\n",
            "13000/18183\tLoss: 0.38027\tAccuracy: 0.79247\n",
            "14000/18183\tLoss: 0.61994\tAccuracy: 0.79229\n",
            "15000/18183\tLoss: 0.49077\tAccuracy: 0.79228\n",
            "16000/18183\tLoss: 0.64809\tAccuracy: 0.79247\n",
            "17000/18183\tLoss: 0.52763\tAccuracy: 0.79258\n",
            "18000/18183\tLoss: 0.68257\tAccuracy: 0.79289\n",
            "Validation accuracy: 0.82116\n",
            "Save model at ./saved_model/model_attention.pt\n",
            "epoch:  9\n",
            "0/18183\tLoss: 0.61241\tAccuracy: 0.75000\n",
            "1000/18183\tLoss: 0.53565\tAccuracy: 0.79765\n",
            "2000/18183\tLoss: 0.59814\tAccuracy: 0.79744\n",
            "3000/18183\tLoss: 2.05796\tAccuracy: 0.79878\n",
            "4000/18183\tLoss: 0.34380\tAccuracy: 0.79937\n",
            "5000/18183\tLoss: 0.48686\tAccuracy: 0.79942\n",
            "6000/18183\tLoss: 0.23357\tAccuracy: 0.79948\n",
            "7000/18183\tLoss: 0.42313\tAccuracy: 0.79928\n",
            "8000/18183\tLoss: 0.77724\tAccuracy: 0.79893\n",
            "9000/18183\tLoss: 0.58583\tAccuracy: 0.79918\n",
            "10000/18183\tLoss: 0.38073\tAccuracy: 0.79884\n",
            "11000/18183\tLoss: 0.33668\tAccuracy: 0.79852\n",
            "12000/18183\tLoss: 0.38157\tAccuracy: 0.79841\n",
            "13000/18183\tLoss: 0.40665\tAccuracy: 0.79804\n",
            "14000/18183\tLoss: 0.50066\tAccuracy: 0.79829\n",
            "15000/18183\tLoss: 0.39176\tAccuracy: 0.79803\n",
            "16000/18183\tLoss: 0.39156\tAccuracy: 0.79799\n",
            "17000/18183\tLoss: 0.60730\tAccuracy: 0.79799\n",
            "18000/18183\tLoss: 0.40892\tAccuracy: 0.79776\n",
            "Validation accuracy: 0.82522\n",
            "Save model at ./saved_model/model_attention.pt\n",
            "epoch:  10\n",
            "0/18183\tLoss: 0.60460\tAccuracy: 0.75000\n",
            "1000/18183\tLoss: 0.59508\tAccuracy: 0.80618\n",
            "2000/18183\tLoss: 0.53405\tAccuracy: 0.80546\n",
            "3000/18183\tLoss: 0.39683\tAccuracy: 0.80377\n",
            "4000/18183\tLoss: 0.43620\tAccuracy: 0.80192\n",
            "5000/18183\tLoss: 0.58126\tAccuracy: 0.80122\n",
            "6000/18183\tLoss: 0.56048\tAccuracy: 0.80146\n",
            "7000/18183\tLoss: 0.37754\tAccuracy: 0.80140\n",
            "8000/18183\tLoss: 0.46805\tAccuracy: 0.80149\n",
            "9000/18183\tLoss: 0.71999\tAccuracy: 0.80124\n",
            "10000/18183\tLoss: 0.63233\tAccuracy: 0.80129\n",
            "11000/18183\tLoss: 0.49808\tAccuracy: 0.80144\n",
            "12000/18183\tLoss: 0.60061\tAccuracy: 0.80151\n",
            "13000/18183\tLoss: 0.28935\tAccuracy: 0.80145\n",
            "14000/18183\tLoss: 0.67016\tAccuracy: 0.80129\n",
            "15000/18183\tLoss: 0.30800\tAccuracy: 0.80132\n",
            "16000/18183\tLoss: 0.60284\tAccuracy: 0.80139\n",
            "17000/18183\tLoss: 0.48175\tAccuracy: 0.80154\n",
            "18000/18183\tLoss: 0.50989\tAccuracy: 0.80144\n",
            "Validation accuracy: 0.82685\n",
            "Save model at ./saved_model/model_attention.pt\n",
            "epoch:  11\n",
            "0/18183\tLoss: 0.41469\tAccuracy: 0.90625\n",
            "1000/18183\tLoss: 0.43026\tAccuracy: 0.80525\n",
            "2000/18183\tLoss: 0.60007\tAccuracy: 0.80442\n",
            "3000/18183\tLoss: 0.36993\tAccuracy: 0.80468\n",
            "4000/18183\tLoss: 0.42050\tAccuracy: 0.80452\n",
            "5000/18183\tLoss: 0.77052\tAccuracy: 0.80420\n",
            "6000/18183\tLoss: 0.44854\tAccuracy: 0.80386\n",
            "7000/18183\tLoss: 0.84475\tAccuracy: 0.80380\n",
            "8000/18183\tLoss: 0.61259\tAccuracy: 0.80454\n",
            "9000/18183\tLoss: 0.36733\tAccuracy: 0.80466\n",
            "10000/18183\tLoss: 0.46892\tAccuracy: 0.80484\n",
            "11000/18183\tLoss: 0.70949\tAccuracy: 0.80461\n",
            "12000/18183\tLoss: 0.64780\tAccuracy: 0.80474\n",
            "13000/18183\tLoss: 0.47764\tAccuracy: 0.80453\n",
            "14000/18183\tLoss: 0.62450\tAccuracy: 0.80457\n",
            "15000/18183\tLoss: 0.53418\tAccuracy: 0.80450\n",
            "16000/18183\tLoss: 0.55364\tAccuracy: 0.80463\n",
            "17000/18183\tLoss: 0.37795\tAccuracy: 0.80475\n",
            "18000/18183\tLoss: 0.58036\tAccuracy: 0.80482\n",
            "Validation accuracy: 0.82624\n",
            "Save model at ./saved_model/model_attention.pt\n",
            "epoch:  12\n",
            "0/18183\tLoss: 0.45414\tAccuracy: 0.75000\n",
            "1000/18183\tLoss: 0.58551\tAccuracy: 0.80991\n",
            "2000/18183\tLoss: 0.37268\tAccuracy: 0.80995\n",
            "3000/18183\tLoss: 0.60544\tAccuracy: 0.81134\n",
            "4000/18183\tLoss: 0.28914\tAccuracy: 0.80967\n",
            "5000/18183\tLoss: 0.59684\tAccuracy: 0.81008\n",
            "6000/18183\tLoss: 0.44634\tAccuracy: 0.80989\n",
            "7000/18183\tLoss: 0.51815\tAccuracy: 0.80947\n",
            "8000/18183\tLoss: 0.32396\tAccuracy: 0.80942\n",
            "9000/18183\tLoss: 0.69480\tAccuracy: 0.80877\n",
            "10000/18183\tLoss: 0.74185\tAccuracy: 0.80868\n",
            "11000/18183\tLoss: 0.27864\tAccuracy: 0.80884\n",
            "12000/18183\tLoss: 0.70929\tAccuracy: 0.80868\n",
            "13000/18183\tLoss: 0.80130\tAccuracy: 0.80857\n",
            "14000/18183\tLoss: 0.87650\tAccuracy: 0.80837\n",
            "15000/18183\tLoss: 0.35729\tAccuracy: 0.80810\n",
            "16000/18183\tLoss: 0.55957\tAccuracy: 0.80830\n",
            "17000/18183\tLoss: 0.33826\tAccuracy: 0.80816\n",
            "18000/18183\tLoss: 0.73621\tAccuracy: 0.80815\n",
            "Validation accuracy: 0.82563\n",
            "Save model at ./saved_model/model_attention.pt\n",
            "epoch:  13\n",
            "0/18183\tLoss: 0.29580\tAccuracy: 0.87500\n",
            "1000/18183\tLoss: 0.66212\tAccuracy: 0.81132\n",
            "2000/18183\tLoss: 0.44017\tAccuracy: 0.81101\n",
            "3000/18183\tLoss: 0.74076\tAccuracy: 0.81130\n",
            "4000/18183\tLoss: 0.62141\tAccuracy: 0.81062\n",
            "5000/18183\tLoss: 0.27327\tAccuracy: 0.81043\n",
            "6000/18183\tLoss: 0.62864\tAccuracy: 0.80972\n",
            "7000/18183\tLoss: 0.22449\tAccuracy: 0.81014\n",
            "8000/18183\tLoss: 0.35058\tAccuracy: 0.80972\n",
            "9000/18183\tLoss: 0.74299\tAccuracy: 0.80990\n",
            "10000/18183\tLoss: 0.39585\tAccuracy: 0.81000\n",
            "11000/18183\tLoss: 0.72494\tAccuracy: 0.80978\n",
            "12000/18183\tLoss: 0.25536\tAccuracy: 0.81034\n",
            "13000/18183\tLoss: 0.37891\tAccuracy: 0.80996\n",
            "14000/18183\tLoss: 0.53594\tAccuracy: 0.81018\n",
            "15000/18183\tLoss: 0.50733\tAccuracy: 0.81032\n",
            "16000/18183\tLoss: 0.78892\tAccuracy: 0.81020\n",
            "17000/18183\tLoss: 0.48489\tAccuracy: 0.81015\n",
            "18000/18183\tLoss: 0.50400\tAccuracy: 0.81022\n",
            "Validation accuracy: 0.82990\n",
            "Save model at ./saved_model/model_attention.pt\n",
            "epoch:  14\n",
            "0/18183\tLoss: 0.72985\tAccuracy: 0.77778\n",
            "1000/18183\tLoss: 0.17238\tAccuracy: 0.81396\n",
            "2000/18183\tLoss: 0.49124\tAccuracy: 0.81350\n",
            "3000/18183\tLoss: 0.46581\tAccuracy: 0.81478\n",
            "4000/18183\tLoss: 0.55216\tAccuracy: 0.81522\n",
            "5000/18183\tLoss: 0.29273\tAccuracy: 0.81465\n",
            "6000/18183\tLoss: 0.56695\tAccuracy: 0.81449\n",
            "7000/18183\tLoss: 0.03023\tAccuracy: 0.81400\n",
            "8000/18183\tLoss: 0.24059\tAccuracy: 0.81394\n",
            "9000/18183\tLoss: 0.57282\tAccuracy: 0.81360\n",
            "10000/18183\tLoss: 0.48045\tAccuracy: 0.81347\n",
            "11000/18183\tLoss: 0.28428\tAccuracy: 0.81332\n",
            "12000/18183\tLoss: 0.44696\tAccuracy: 0.81317\n",
            "13000/18183\tLoss: 0.36847\tAccuracy: 0.81340\n",
            "14000/18183\tLoss: 0.44616\tAccuracy: 0.81338\n",
            "15000/18183\tLoss: 0.61978\tAccuracy: 0.81310\n",
            "16000/18183\tLoss: 0.51368\tAccuracy: 0.81314\n",
            "17000/18183\tLoss: 0.36158\tAccuracy: 0.81320\n",
            "18000/18183\tLoss: 0.39885\tAccuracy: 0.81300\n",
            "Validation accuracy: 0.83467\n",
            "Save model at ./saved_model/model_attention.pt\n",
            "epoch:  15\n",
            "0/18183\tLoss: 0.55573\tAccuracy: 0.71875\n",
            "1000/18183\tLoss: 0.39693\tAccuracy: 0.81855\n",
            "2000/18183\tLoss: 0.95802\tAccuracy: 0.81612\n",
            "3000/18183\tLoss: 0.42362\tAccuracy: 0.81504\n",
            "4000/18183\tLoss: 0.46994\tAccuracy: 0.81475\n",
            "5000/18183\tLoss: 0.13885\tAccuracy: 0.81526\n",
            "6000/18183\tLoss: 0.59012\tAccuracy: 0.81560\n",
            "7000/18183\tLoss: 0.22895\tAccuracy: 0.81621\n",
            "8000/18183\tLoss: 0.50966\tAccuracy: 0.81624\n",
            "9000/18183\tLoss: 0.34955\tAccuracy: 0.81641\n",
            "10000/18183\tLoss: 0.39547\tAccuracy: 0.81650\n",
            "11000/18183\tLoss: 0.32689\tAccuracy: 0.81646\n",
            "12000/18183\tLoss: 0.71720\tAccuracy: 0.81660\n",
            "13000/18183\tLoss: 0.55175\tAccuracy: 0.81637\n",
            "14000/18183\tLoss: 0.38655\tAccuracy: 0.81614\n",
            "15000/18183\tLoss: 0.56459\tAccuracy: 0.81620\n",
            "16000/18183\tLoss: 0.37709\tAccuracy: 0.81610\n",
            "17000/18183\tLoss: 0.49509\tAccuracy: 0.81596\n",
            "18000/18183\tLoss: 0.44995\tAccuracy: 0.81576\n",
            "Validation accuracy: 0.83741\n",
            "Save model at ./saved_model/model_attention.pt\n",
            "epoch:  16\n",
            "0/18183\tLoss: 0.59564\tAccuracy: 0.78125\n",
            "1000/18183\tLoss: 0.40712\tAccuracy: 0.81920\n",
            "2000/18183\tLoss: 0.52677\tAccuracy: 0.81766\n",
            "3000/18183\tLoss: 0.38000\tAccuracy: 0.81819\n",
            "4000/18183\tLoss: 0.39535\tAccuracy: 0.81815\n",
            "5000/18183\tLoss: 0.47919\tAccuracy: 0.81831\n",
            "6000/18183\tLoss: 0.22381\tAccuracy: 0.81857\n",
            "7000/18183\tLoss: 0.58714\tAccuracy: 0.81862\n",
            "8000/18183\tLoss: 0.59325\tAccuracy: 0.81846\n",
            "9000/18183\tLoss: 0.38103\tAccuracy: 0.81832\n",
            "10000/18183\tLoss: 0.29429\tAccuracy: 0.81822\n",
            "11000/18183\tLoss: 0.52517\tAccuracy: 0.81817\n",
            "12000/18183\tLoss: 0.59024\tAccuracy: 0.81811\n",
            "13000/18183\tLoss: 0.52573\tAccuracy: 0.81799\n",
            "14000/18183\tLoss: 0.31976\tAccuracy: 0.81763\n",
            "15000/18183\tLoss: 0.53288\tAccuracy: 0.81749\n",
            "16000/18183\tLoss: 0.31846\tAccuracy: 0.81740\n",
            "17000/18183\tLoss: 0.25966\tAccuracy: 0.81722\n",
            "18000/18183\tLoss: 0.67441\tAccuracy: 0.81723\n",
            "Validation accuracy: 0.83681\n",
            "Save model at ./saved_model/model_attention.pt\n",
            "epoch:  17\n",
            "0/18183\tLoss: 0.33395\tAccuracy: 0.87500\n",
            "1000/18183\tLoss: 0.47839\tAccuracy: 0.81927\n",
            "2000/18183\tLoss: 0.46551\tAccuracy: 0.81994\n",
            "3000/18183\tLoss: 0.40776\tAccuracy: 0.82193\n",
            "4000/18183\tLoss: 0.46070\tAccuracy: 0.82074\n",
            "5000/18183\tLoss: 0.42687\tAccuracy: 0.81951\n",
            "6000/18183\tLoss: 0.46038\tAccuracy: 0.81925\n",
            "7000/18183\tLoss: 0.48403\tAccuracy: 0.81926\n",
            "8000/18183\tLoss: 0.23092\tAccuracy: 0.81940\n",
            "9000/18183\tLoss: 0.33145\tAccuracy: 0.81947\n",
            "10000/18183\tLoss: 0.43366\tAccuracy: 0.81922\n",
            "11000/18183\tLoss: 0.89297\tAccuracy: 0.81915\n",
            "12000/18183\tLoss: 0.53263\tAccuracy: 0.81872\n",
            "13000/18183\tLoss: 0.36101\tAccuracy: 0.81869\n",
            "14000/18183\tLoss: 0.67527\tAccuracy: 0.81900\n",
            "15000/18183\tLoss: 0.69956\tAccuracy: 0.81917\n",
            "16000/18183\tLoss: 0.55334\tAccuracy: 0.81928\n",
            "17000/18183\tLoss: 0.42587\tAccuracy: 0.81942\n",
            "18000/18183\tLoss: 0.49753\tAccuracy: 0.81939\n",
            "Validation accuracy: 0.83853\n",
            "Save model at ./saved_model/model_attention.pt\n",
            "epoch:  18\n",
            "0/18183\tLoss: 0.45909\tAccuracy: 0.81250\n",
            "1000/18183\tLoss: 0.01953\tAccuracy: 0.82527\n",
            "2000/18183\tLoss: 0.76091\tAccuracy: 0.82226\n",
            "3000/18183\tLoss: 0.40136\tAccuracy: 0.82203\n",
            "4000/18183\tLoss: 0.46451\tAccuracy: 0.82176\n",
            "5000/18183\tLoss: 0.57267\tAccuracy: 0.82106\n",
            "6000/18183\tLoss: 0.33116\tAccuracy: 0.82115\n",
            "7000/18183\tLoss: 0.50060\tAccuracy: 0.82160\n",
            "8000/18183\tLoss: 0.56498\tAccuracy: 0.82115\n",
            "9000/18183\tLoss: 0.54724\tAccuracy: 0.82099\n",
            "10000/18183\tLoss: 1.01204\tAccuracy: 0.82118\n",
            "11000/18183\tLoss: 0.49082\tAccuracy: 0.82102\n",
            "12000/18183\tLoss: 0.51059\tAccuracy: 0.82081\n",
            "13000/18183\tLoss: 0.37299\tAccuracy: 0.82082\n",
            "14000/18183\tLoss: 0.24985\tAccuracy: 0.82075\n",
            "15000/18183\tLoss: 0.50502\tAccuracy: 0.82055\n",
            "16000/18183\tLoss: 0.28724\tAccuracy: 0.82047\n",
            "17000/18183\tLoss: 0.37503\tAccuracy: 0.82047\n",
            "18000/18183\tLoss: 0.68294\tAccuracy: 0.82031\n",
            "Validation accuracy: 0.83985\n",
            "Save model at ./saved_model/model_attention.pt\n",
            "epoch:  19\n",
            "0/18183\tLoss: 0.28449\tAccuracy: 0.93750\n",
            "1000/18183\tLoss: 0.33575\tAccuracy: 0.82571\n",
            "2000/18183\tLoss: 0.40930\tAccuracy: 0.82478\n",
            "3000/18183\tLoss: 0.60006\tAccuracy: 0.82396\n",
            "4000/18183\tLoss: 0.42202\tAccuracy: 0.82377\n",
            "5000/18183\tLoss: 0.57932\tAccuracy: 0.82409\n",
            "6000/18183\tLoss: 0.39146\tAccuracy: 0.82336\n",
            "7000/18183\tLoss: 0.43335\tAccuracy: 0.82321\n",
            "8000/18183\tLoss: 0.61383\tAccuracy: 0.82322\n",
            "9000/18183\tLoss: 0.02212\tAccuracy: 0.82310\n",
            "10000/18183\tLoss: 0.53358\tAccuracy: 0.82253\n",
            "11000/18183\tLoss: 0.62607\tAccuracy: 0.82215\n",
            "12000/18183\tLoss: 0.01593\tAccuracy: 0.82226\n",
            "13000/18183\tLoss: 0.37252\tAccuracy: 0.82202\n",
            "14000/18183\tLoss: 0.46997\tAccuracy: 0.82196\n",
            "15000/18183\tLoss: 0.47205\tAccuracy: 0.82203\n",
            "16000/18183\tLoss: 0.37014\tAccuracy: 0.82244\n",
            "17000/18183\tLoss: 0.54544\tAccuracy: 0.82238\n",
            "18000/18183\tLoss: 0.40381\tAccuracy: 0.82207\n",
            "Validation accuracy: 0.83945\n",
            "Save model at ./saved_model/model_attention.pt\n",
            "epoch:  20\n",
            "0/18183\tLoss: 0.50812\tAccuracy: 0.78125\n",
            "1000/18183\tLoss: 0.68978\tAccuracy: 0.82798\n",
            "2000/18183\tLoss: 0.46423\tAccuracy: 0.82765\n",
            "3000/18183\tLoss: 0.49256\tAccuracy: 0.82662\n",
            "4000/18183\tLoss: 0.46478\tAccuracy: 0.82620\n",
            "5000/18183\tLoss: 0.79651\tAccuracy: 0.82544\n",
            "6000/18183\tLoss: 0.55713\tAccuracy: 0.82507\n",
            "7000/18183\tLoss: 0.41276\tAccuracy: 0.82533\n",
            "8000/18183\tLoss: 0.64988\tAccuracy: 0.82526\n",
            "9000/18183\tLoss: 0.34307\tAccuracy: 0.82527\n",
            "10000/18183\tLoss: 0.45906\tAccuracy: 0.82454\n",
            "11000/18183\tLoss: 0.67125\tAccuracy: 0.82460\n",
            "12000/18183\tLoss: 0.35009\tAccuracy: 0.82455\n",
            "13000/18183\tLoss: 0.46226\tAccuracy: 0.82440\n",
            "14000/18183\tLoss: 0.12869\tAccuracy: 0.82424\n",
            "15000/18183\tLoss: 0.83183\tAccuracy: 0.82418\n",
            "16000/18183\tLoss: 0.57673\tAccuracy: 0.82408\n",
            "17000/18183\tLoss: 0.51849\tAccuracy: 0.82400\n",
            "18000/18183\tLoss: 0.70028\tAccuracy: 0.82386\n",
            "Validation accuracy: 0.84260\n",
            "Save model at ./saved_model/model_attention.pt\n",
            "Test accuracy: 0.83915\n"
          ]
        }
      ]
    },
    {
      "cell_type": "code",
      "source": [
        "'''\n",
        "metrics = [k for k in model.history.keys() if (\"loss\" not in k) and (\"val\" not in k)]\n",
        "fig, ax = plt.subplots(nrows=1, ncols=2, constrained_layout=True, figsize=(8,4), dpi= 100)\n",
        "fig.suptitle(\"DAM Model\", fontsize=13)\n",
        "\n",
        "ax[0].set(title=\"Training\")\n",
        "ax11 = ax[0].twinx()\n",
        "ax[0].plot(model.history['loss'], color='black')\n",
        "ax[0].set_xlabel('Epochs')\n",
        "ax[0].set_ylabel('Loss', color='black')\n",
        "for metric in metrics:\n",
        "    ax11.plot(model.history[metric], label=metric)\n",
        "ax11.set_ylabel(\"Score\", color='steelblue')\n",
        "ax11.legend()\n",
        "\n",
        "ax[1].set(title=\"Validation\")\n",
        "ax22 = ax[1].twinx()\n",
        "ax[1].plot(model.history['val_loss'], color='black')\n",
        "ax[1].set_xlabel('Epochs')\n",
        "ax[1].set_ylabel('Loss', color='black')\n",
        "for metric in metrics:\n",
        "     ax22.plot(model.history['val_'+metric], label=metric)\n",
        "ax22.set_ylabel(\"Score\", color=\"steelblue\")\n",
        "plt.show()\n",
        "'''"
      ],
      "metadata": {
        "id": "_zCg4lFfC6WR"
      },
      "id": "_zCg4lFfC6WR",
      "execution_count": null,
      "outputs": []
    },
    {
      "cell_type": "code",
      "source": [
        "#metrics = [k for k in model.history.keys() if (\"loss\" not in k) and (\"val\" not in k)]\n",
        "fig, ax = plt.subplots(nrows=1, ncols=2, constrained_layout=True, figsize=(8,4), dpi= 100)\n",
        "fig.suptitle(\"DAM Model\", fontsize=13)\n",
        "\n",
        "ax[0].set(title=\"Training\")\n",
        "ax11 = ax[0].twinx()\n",
        "ax[0].plot(model_loss, color='black')\n",
        "ax[0].set_xlabel('Epochs')\n",
        "ax[0].set_ylabel('Loss', color='black')\n",
        "\n",
        "#ax11.plot(model.history[metric], label=metric)\n",
        "ax11.set_ylabel(\"Score\", color='steelblue')\n",
        "ax11.legend()\n",
        "\n",
        "ax[1].set(title=\"Validation\")\n",
        "ax22 = ax[1].twinx()\n",
        "ax[1].plot(model_loss, color='black')\n",
        "ax[1].set_xlabel('Epochs')\n",
        "ax[1].set_ylabel('Loss', color='black')\n",
        "#for metric in metrics:\n",
        "#     ax22.plot(model.history['val_'+metric], label=metric)\n",
        "ax22.set_ylabel(\"Score\", color=\"steelblue\")\n",
        "plt.show()"
      ],
      "metadata": {
        "colab": {
          "base_uri": "https://localhost:8080/",
          "height": 240
        },
        "id": "ZJrN5JysBnFR",
        "outputId": "6b7ece15-23a6-453c-fe2d-23ac8d2c519b"
      },
      "id": "ZJrN5JysBnFR",
      "execution_count": 1,
      "outputs": [
        {
          "output_type": "error",
          "ename": "NameError",
          "evalue": "ignored",
          "traceback": [
            "\u001b[0;31m---------------------------------------------------------------------------\u001b[0m",
            "\u001b[0;31mNameError\u001b[0m                                 Traceback (most recent call last)",
            "\u001b[0;32m<ipython-input-1-b2436628ff0f>\u001b[0m in \u001b[0;36m<module>\u001b[0;34m()\u001b[0m\n\u001b[1;32m      1\u001b[0m \u001b[0;31m#metrics = [k for k in model.history.keys() if (\"loss\" not in k) and (\"val\" not in k)]\u001b[0m\u001b[0;34m\u001b[0m\u001b[0;34m\u001b[0m\u001b[0;34m\u001b[0m\u001b[0m\n\u001b[0;32m----> 2\u001b[0;31m \u001b[0mfig\u001b[0m\u001b[0;34m,\u001b[0m \u001b[0max\u001b[0m \u001b[0;34m=\u001b[0m \u001b[0mplt\u001b[0m\u001b[0;34m.\u001b[0m\u001b[0msubplots\u001b[0m\u001b[0;34m(\u001b[0m\u001b[0mnrows\u001b[0m\u001b[0;34m=\u001b[0m\u001b[0;36m1\u001b[0m\u001b[0;34m,\u001b[0m \u001b[0mncols\u001b[0m\u001b[0;34m=\u001b[0m\u001b[0;36m2\u001b[0m\u001b[0;34m,\u001b[0m \u001b[0mconstrained_layout\u001b[0m\u001b[0;34m=\u001b[0m\u001b[0;32mTrue\u001b[0m\u001b[0;34m,\u001b[0m \u001b[0mfigsize\u001b[0m\u001b[0;34m=\u001b[0m\u001b[0;34m(\u001b[0m\u001b[0;36m8\u001b[0m\u001b[0;34m,\u001b[0m\u001b[0;36m4\u001b[0m\u001b[0;34m)\u001b[0m\u001b[0;34m,\u001b[0m \u001b[0mdpi\u001b[0m\u001b[0;34m=\u001b[0m \u001b[0;36m100\u001b[0m\u001b[0;34m)\u001b[0m\u001b[0;34m\u001b[0m\u001b[0;34m\u001b[0m\u001b[0m\n\u001b[0m\u001b[1;32m      3\u001b[0m \u001b[0mfig\u001b[0m\u001b[0;34m.\u001b[0m\u001b[0msuptitle\u001b[0m\u001b[0;34m(\u001b[0m\u001b[0;34m\"DAM Model\"\u001b[0m\u001b[0;34m,\u001b[0m \u001b[0mfontsize\u001b[0m\u001b[0;34m=\u001b[0m\u001b[0;36m13\u001b[0m\u001b[0;34m)\u001b[0m\u001b[0;34m\u001b[0m\u001b[0;34m\u001b[0m\u001b[0m\n\u001b[1;32m      4\u001b[0m \u001b[0;34m\u001b[0m\u001b[0m\n\u001b[1;32m      5\u001b[0m \u001b[0max\u001b[0m\u001b[0;34m[\u001b[0m\u001b[0;36m0\u001b[0m\u001b[0;34m]\u001b[0m\u001b[0;34m.\u001b[0m\u001b[0mset\u001b[0m\u001b[0;34m(\u001b[0m\u001b[0mtitle\u001b[0m\u001b[0;34m=\u001b[0m\u001b[0;34m\"Training\"\u001b[0m\u001b[0;34m)\u001b[0m\u001b[0;34m\u001b[0m\u001b[0;34m\u001b[0m\u001b[0m\n",
            "\u001b[0;31mNameError\u001b[0m: name 'plt' is not defined"
          ]
        }
      ]
    },
    {
      "cell_type": "code",
      "source": [
        "model_lstm = Model(embedding_matrix=wordvec_matrix, hidden_dim=200, feature_extractor='lstm', dropout_rate=0.2).to(device)\n",
        "optimizer = optim.Adam(model_lstm.parameters(), lr=2e-4)\n",
        "model_path = \"./saved_model/model_lstm.pt\""
      ],
      "metadata": {
        "id": "pKbDvBPeVAdg"
      },
      "id": "pKbDvBPeVAdg",
      "execution_count": 20,
      "outputs": []
    },
    {
      "cell_type": "code",
      "source": [
        "print(model_lstm)"
      ],
      "metadata": {
        "colab": {
          "base_uri": "https://localhost:8080/"
        },
        "id": "gJapPHWKwdZE",
        "outputId": "3af5aa0a-b0d0-4a63-c342-5ddf702f75b2"
      },
      "id": "gJapPHWKwdZE",
      "execution_count": 21,
      "outputs": [
        {
          "output_type": "stream",
          "name": "stdout",
          "text": [
            "Model(\n",
            "  (embedding): Embedding(28754, 300)\n",
            "  (feature_extractor_module): LSTM_Module(\n",
            "    (LSTM): LSTM(200, 200, num_layers=2, batch_first=True, dropout=0.2, bidirectional=True)\n",
            "    (fc): Linear(in_features=1600, out_features=200, bias=True)\n",
            "  )\n",
            "  (LSTM): LSTM(300, 200, batch_first=True)\n",
            "  (input_fc): Linear(in_features=300, out_features=200, bias=True)\n",
            "  (output_fc): Linear(in_features=200, out_features=3, bias=True)\n",
            ")\n"
          ]
        }
      ]
    },
    {
      "cell_type": "code",
      "source": [
        "run(model=model_lstm,  \\\n",
        "              optimizer=optimizer, \\\n",
        "              train_data=train_data, \\\n",
        "              dev_data=dev_data, \\\n",
        "              test_data=test_data, \\\n",
        "              max_epochs=20, \\\n",
        "              device=device, \\\n",
        "              model_path=model_path)"
      ],
      "metadata": {
        "colab": {
          "base_uri": "https://localhost:8080/"
        },
        "id": "Yn5ckI4nfpLi",
        "outputId": "29ede483-96d8-41f4-ff3f-a0d3487e0fe9"
      },
      "id": "Yn5ckI4nfpLi",
      "execution_count": 22,
      "outputs": [
        {
          "output_type": "stream",
          "name": "stdout",
          "text": [
            "epoch:  1\n",
            "0/18183\tLoss: 1.10398\tAccuracy: 0.25000\n",
            "1000/18183\tLoss: 0.78804\tAccuracy: 0.48716\n",
            "2000/18183\tLoss: 0.76403\tAccuracy: 0.52532\n",
            "3000/18183\tLoss: 0.95231\tAccuracy: 0.54371\n",
            "4000/18183\tLoss: 0.81703\tAccuracy: 0.55522\n",
            "5000/18183\tLoss: 0.81572\tAccuracy: 0.56305\n",
            "6000/18183\tLoss: 0.87143\tAccuracy: 0.57047\n",
            "7000/18183\tLoss: 1.00212\tAccuracy: 0.57717\n",
            "8000/18183\tLoss: 0.82217\tAccuracy: 0.58352\n",
            "9000/18183\tLoss: 0.91020\tAccuracy: 0.58947\n",
            "10000/18183\tLoss: 0.84394\tAccuracy: 0.59443\n",
            "11000/18183\tLoss: 0.57478\tAccuracy: 0.59932\n",
            "12000/18183\tLoss: 0.68381\tAccuracy: 0.60351\n",
            "13000/18183\tLoss: 0.77701\tAccuracy: 0.60770\n",
            "14000/18183\tLoss: 0.79252\tAccuracy: 0.61127\n",
            "15000/18183\tLoss: 0.65072\tAccuracy: 0.61460\n",
            "16000/18183\tLoss: 0.82469\tAccuracy: 0.61760\n",
            "17000/18183\tLoss: 0.80252\tAccuracy: 0.62017\n",
            "18000/18183\tLoss: 0.65710\tAccuracy: 0.62303\n",
            "Validation accuracy: 0.67412\n",
            "Save model at ./saved_model/model_lstm.pt\n",
            "epoch:  2\n",
            "0/18183\tLoss: 0.73237\tAccuracy: 0.59375\n",
            "1000/18183\tLoss: 0.76757\tAccuracy: 0.67350\n",
            "2000/18183\tLoss: 0.53896\tAccuracy: 0.67524\n",
            "3000/18183\tLoss: 0.65534\tAccuracy: 0.67659\n",
            "4000/18183\tLoss: 1.26724\tAccuracy: 0.67946\n",
            "5000/18183\tLoss: 0.71122\tAccuracy: 0.68110\n",
            "6000/18183\tLoss: 0.86490\tAccuracy: 0.68206\n",
            "7000/18183\tLoss: 0.66864\tAccuracy: 0.68259\n",
            "8000/18183\tLoss: 0.52161\tAccuracy: 0.68378\n",
            "9000/18183\tLoss: 0.74329\tAccuracy: 0.68436\n",
            "10000/18183\tLoss: 0.69144\tAccuracy: 0.68456\n",
            "11000/18183\tLoss: 0.66557\tAccuracy: 0.68509\n",
            "12000/18183\tLoss: 0.73184\tAccuracy: 0.68624\n",
            "13000/18183\tLoss: 0.84999\tAccuracy: 0.68712\n",
            "14000/18183\tLoss: 0.61464\tAccuracy: 0.68799\n",
            "15000/18183\tLoss: 0.70595\tAccuracy: 0.68869\n",
            "16000/18183\tLoss: 1.51191\tAccuracy: 0.68940\n",
            "17000/18183\tLoss: 0.87049\tAccuracy: 0.69036\n",
            "18000/18183\tLoss: 0.73195\tAccuracy: 0.69130\n",
            "Validation accuracy: 0.71639\n",
            "Save model at ./saved_model/model_lstm.pt\n",
            "epoch:  3\n",
            "0/18183\tLoss: 0.70691\tAccuracy: 0.65625\n",
            "1000/18183\tLoss: 0.67097\tAccuracy: 0.70564\n",
            "2000/18183\tLoss: 0.54548\tAccuracy: 0.70951\n",
            "3000/18183\tLoss: 0.73071\tAccuracy: 0.70965\n",
            "4000/18183\tLoss: 0.68866\tAccuracy: 0.71090\n",
            "5000/18183\tLoss: 0.69207\tAccuracy: 0.71179\n",
            "6000/18183\tLoss: 0.39953\tAccuracy: 0.71224\n",
            "7000/18183\tLoss: 0.47936\tAccuracy: 0.71248\n",
            "8000/18183\tLoss: 0.64137\tAccuracy: 0.71255\n",
            "9000/18183\tLoss: 0.63449\tAccuracy: 0.71266\n",
            "10000/18183\tLoss: 0.86076\tAccuracy: 0.71398\n",
            "11000/18183\tLoss: 0.74279\tAccuracy: 0.71436\n",
            "12000/18183\tLoss: 0.62789\tAccuracy: 0.71505\n",
            "13000/18183\tLoss: 0.59041\tAccuracy: 0.71535\n",
            "14000/18183\tLoss: 0.72724\tAccuracy: 0.71600\n",
            "15000/18183\tLoss: 0.95695\tAccuracy: 0.71645\n",
            "16000/18183\tLoss: 0.28035\tAccuracy: 0.71720\n",
            "17000/18183\tLoss: 0.76806\tAccuracy: 0.71813\n",
            "18000/18183\tLoss: 0.65379\tAccuracy: 0.71847\n",
            "Validation accuracy: 0.73692\n",
            "Save model at ./saved_model/model_lstm.pt\n",
            "epoch:  4\n",
            "0/18183\tLoss: 0.74743\tAccuracy: 0.71875\n",
            "1000/18183\tLoss: 0.71429\tAccuracy: 0.73093\n",
            "2000/18183\tLoss: 0.50055\tAccuracy: 0.73337\n",
            "3000/18183\tLoss: 0.80150\tAccuracy: 0.73439\n",
            "4000/18183\tLoss: 0.71965\tAccuracy: 0.73445\n",
            "5000/18183\tLoss: 0.79290\tAccuracy: 0.73562\n",
            "6000/18183\tLoss: 0.52131\tAccuracy: 0.73496\n",
            "7000/18183\tLoss: 0.63547\tAccuracy: 0.73527\n",
            "8000/18183\tLoss: 0.77284\tAccuracy: 0.73561\n",
            "9000/18183\tLoss: 0.65357\tAccuracy: 0.73581\n",
            "10000/18183\tLoss: 0.68647\tAccuracy: 0.73603\n",
            "11000/18183\tLoss: 0.54795\tAccuracy: 0.73621\n",
            "12000/18183\tLoss: 0.59377\tAccuracy: 0.73665\n",
            "13000/18183\tLoss: 0.66015\tAccuracy: 0.73684\n",
            "14000/18183\tLoss: 0.23837\tAccuracy: 0.73702\n",
            "15000/18183\tLoss: 0.52248\tAccuracy: 0.73706\n",
            "16000/18183\tLoss: 0.54546\tAccuracy: 0.73745\n",
            "17000/18183\tLoss: 0.37027\tAccuracy: 0.73789\n",
            "18000/18183\tLoss: 0.57317\tAccuracy: 0.73822\n",
            "Validation accuracy: 0.75419\n",
            "Save model at ./saved_model/model_lstm.pt\n",
            "epoch:  5\n",
            "0/18183\tLoss: 0.68415\tAccuracy: 0.71875\n",
            "1000/18183\tLoss: 0.28447\tAccuracy: 0.75479\n",
            "2000/18183\tLoss: 0.78934\tAccuracy: 0.75467\n",
            "3000/18183\tLoss: 0.92996\tAccuracy: 0.75463\n",
            "4000/18183\tLoss: 0.78094\tAccuracy: 0.75431\n",
            "5000/18183\tLoss: 0.67608\tAccuracy: 0.75410\n",
            "6000/18183\tLoss: 0.67187\tAccuracy: 0.75382\n",
            "7000/18183\tLoss: 0.39275\tAccuracy: 0.75445\n",
            "8000/18183\tLoss: 0.74469\tAccuracy: 0.75428\n",
            "9000/18183\tLoss: 0.59585\tAccuracy: 0.75440\n",
            "10000/18183\tLoss: 0.85184\tAccuracy: 0.75434\n",
            "11000/18183\tLoss: 0.68666\tAccuracy: 0.75454\n",
            "12000/18183\tLoss: 0.63666\tAccuracy: 0.75436\n",
            "13000/18183\tLoss: 0.06378\tAccuracy: 0.75437\n",
            "14000/18183\tLoss: 0.42967\tAccuracy: 0.75467\n",
            "15000/18183\tLoss: 0.54047\tAccuracy: 0.75455\n",
            "16000/18183\tLoss: 0.43991\tAccuracy: 0.75449\n",
            "17000/18183\tLoss: 0.96021\tAccuracy: 0.75454\n",
            "18000/18183\tLoss: 0.41784\tAccuracy: 0.75465\n",
            "Validation accuracy: 0.75978\n",
            "Save model at ./saved_model/model_lstm.pt\n",
            "epoch:  6\n",
            "0/18183\tLoss: 0.35752\tAccuracy: 0.87500\n",
            "1000/18183\tLoss: 0.74578\tAccuracy: 0.76543\n",
            "2000/18183\tLoss: 0.81210\tAccuracy: 0.76624\n",
            "3000/18183\tLoss: 0.55576\tAccuracy: 0.76689\n",
            "4000/18183\tLoss: 0.54872\tAccuracy: 0.76680\n",
            "5000/18183\tLoss: 0.54195\tAccuracy: 0.76716\n",
            "6000/18183\tLoss: 0.49296\tAccuracy: 0.76774\n",
            "7000/18183\tLoss: 0.60365\tAccuracy: 0.76833\n",
            "8000/18183\tLoss: 0.40820\tAccuracy: 0.76893\n",
            "9000/18183\tLoss: 0.45846\tAccuracy: 0.76838\n",
            "10000/18183\tLoss: 0.49285\tAccuracy: 0.76806\n",
            "11000/18183\tLoss: 0.52225\tAccuracy: 0.76855\n",
            "12000/18183\tLoss: 0.62826\tAccuracy: 0.76834\n",
            "13000/18183\tLoss: 0.36474\tAccuracy: 0.76849\n",
            "14000/18183\tLoss: 0.43899\tAccuracy: 0.76834\n",
            "15000/18183\tLoss: 0.53913\tAccuracy: 0.76829\n",
            "16000/18183\tLoss: 0.50118\tAccuracy: 0.76848\n",
            "17000/18183\tLoss: 0.35519\tAccuracy: 0.76854\n",
            "18000/18183\tLoss: 0.58147\tAccuracy: 0.76885\n",
            "Validation accuracy: 0.77411\n",
            "Save model at ./saved_model/model_lstm.pt\n",
            "epoch:  7\n",
            "0/18183\tLoss: 0.34967\tAccuracy: 0.87500\n",
            "1000/18183\tLoss: 0.60971\tAccuracy: 0.78184\n",
            "2000/18183\tLoss: 0.66216\tAccuracy: 0.78090\n",
            "3000/18183\tLoss: 0.36592\tAccuracy: 0.77966\n",
            "4000/18183\tLoss: 0.25028\tAccuracy: 0.77872\n",
            "5000/18183\tLoss: 0.37548\tAccuracy: 0.77864\n",
            "6000/18183\tLoss: 0.67618\tAccuracy: 0.77877\n",
            "7000/18183\tLoss: 0.44049\tAccuracy: 0.77869\n",
            "8000/18183\tLoss: 0.47583\tAccuracy: 0.77840\n",
            "9000/18183\tLoss: 0.52603\tAccuracy: 0.77894\n",
            "10000/18183\tLoss: 0.71362\tAccuracy: 0.77935\n",
            "11000/18183\tLoss: 0.29551\tAccuracy: 0.77969\n",
            "12000/18183\tLoss: 0.64730\tAccuracy: 0.77964\n",
            "13000/18183\tLoss: 0.54118\tAccuracy: 0.77989\n",
            "14000/18183\tLoss: 0.44054\tAccuracy: 0.77992\n",
            "15000/18183\tLoss: 0.72236\tAccuracy: 0.78010\n",
            "16000/18183\tLoss: 0.83698\tAccuracy: 0.78019\n",
            "17000/18183\tLoss: 0.59959\tAccuracy: 0.78066\n",
            "18000/18183\tLoss: 0.45854\tAccuracy: 0.78063\n",
            "Validation accuracy: 0.78010\n",
            "Save model at ./saved_model/model_lstm.pt\n",
            "epoch:  8\n",
            "0/18183\tLoss: 0.20875\tAccuracy: 0.92857\n",
            "1000/18183\tLoss: 0.37579\tAccuracy: 0.79749\n",
            "2000/18183\tLoss: 0.50113\tAccuracy: 0.79517\n",
            "3000/18183\tLoss: 0.61380\tAccuracy: 0.79362\n",
            "4000/18183\tLoss: 0.62881\tAccuracy: 0.79400\n",
            "5000/18183\tLoss: 0.34431\tAccuracy: 0.79412\n",
            "6000/18183\tLoss: 0.37594\tAccuracy: 0.79468\n",
            "7000/18183\tLoss: 0.72524\tAccuracy: 0.79448\n",
            "8000/18183\tLoss: 0.53519\tAccuracy: 0.79443\n",
            "9000/18183\tLoss: 0.35533\tAccuracy: 0.79421\n",
            "10000/18183\tLoss: 0.45130\tAccuracy: 0.79377\n",
            "11000/18183\tLoss: 0.52873\tAccuracy: 0.79377\n",
            "12000/18183\tLoss: 0.68637\tAccuracy: 0.79366\n",
            "13000/18183\tLoss: 0.69751\tAccuracy: 0.79345\n",
            "14000/18183\tLoss: 0.78185\tAccuracy: 0.79325\n",
            "15000/18183\tLoss: 0.34243\tAccuracy: 0.79302\n",
            "16000/18183\tLoss: 0.40811\tAccuracy: 0.79292\n",
            "17000/18183\tLoss: 0.47557\tAccuracy: 0.79269\n",
            "18000/18183\tLoss: 0.34259\tAccuracy: 0.79262\n",
            "Validation accuracy: 0.78925\n",
            "Save model at ./saved_model/model_lstm.pt\n",
            "epoch:  9\n",
            "0/18183\tLoss: 0.45513\tAccuracy: 1.00000\n",
            "1000/18183\tLoss: 0.18249\tAccuracy: 0.80928\n",
            "2000/18183\tLoss: 0.02086\tAccuracy: 0.80520\n",
            "3000/18183\tLoss: 0.58802\tAccuracy: 0.80613\n",
            "4000/18183\tLoss: 0.42582\tAccuracy: 0.80645\n",
            "5000/18183\tLoss: 0.48865\tAccuracy: 0.80667\n",
            "6000/18183\tLoss: 0.41860\tAccuracy: 0.80633\n",
            "7000/18183\tLoss: 0.25712\tAccuracy: 0.80604\n",
            "8000/18183\tLoss: 0.37303\tAccuracy: 0.80596\n",
            "9000/18183\tLoss: 0.43559\tAccuracy: 0.80606\n",
            "10000/18183\tLoss: 0.55998\tAccuracy: 0.80592\n",
            "11000/18183\tLoss: 0.49335\tAccuracy: 0.80584\n",
            "12000/18183\tLoss: 0.56822\tAccuracy: 0.80613\n",
            "13000/18183\tLoss: 0.43024\tAccuracy: 0.80598\n",
            "14000/18183\tLoss: 0.36659\tAccuracy: 0.80572\n",
            "15000/18183\tLoss: 0.49031\tAccuracy: 0.80553\n",
            "16000/18183\tLoss: 0.19982\tAccuracy: 0.80560\n",
            "17000/18183\tLoss: 0.50545\tAccuracy: 0.80546\n",
            "18000/18183\tLoss: 0.28934\tAccuracy: 0.80524\n",
            "Validation accuracy: 0.79118\n",
            "Save model at ./saved_model/model_lstm.pt\n",
            "epoch:  10\n",
            "0/18183\tLoss: 0.88322\tAccuracy: 0.62500\n",
            "1000/18183\tLoss: 0.37713\tAccuracy: 0.82098\n",
            "2000/18183\tLoss: 0.40064\tAccuracy: 0.82135\n",
            "3000/18183\tLoss: 0.44125\tAccuracy: 0.82061\n",
            "4000/18183\tLoss: 0.40663\tAccuracy: 0.82042\n",
            "5000/18183\tLoss: 0.23375\tAccuracy: 0.82010\n",
            "6000/18183\tLoss: 0.73105\tAccuracy: 0.81943\n",
            "7000/18183\tLoss: 0.48676\tAccuracy: 0.81948\n",
            "8000/18183\tLoss: 0.46692\tAccuracy: 0.81975\n",
            "9000/18183\tLoss: 0.59669\tAccuracy: 0.81995\n",
            "10000/18183\tLoss: 0.40267\tAccuracy: 0.81969\n",
            "11000/18183\tLoss: 0.35262\tAccuracy: 0.81926\n",
            "12000/18183\tLoss: 0.60002\tAccuracy: 0.81900\n",
            "13000/18183\tLoss: 0.50589\tAccuracy: 0.81878\n",
            "14000/18183\tLoss: 0.65611\tAccuracy: 0.81842\n",
            "15000/18183\tLoss: 0.39989\tAccuracy: 0.81836\n",
            "16000/18183\tLoss: 0.54216\tAccuracy: 0.81822\n",
            "17000/18183\tLoss: 0.39166\tAccuracy: 0.81801\n",
            "18000/18183\tLoss: 0.64696\tAccuracy: 0.81794\n",
            "Validation accuracy: 0.79565\n",
            "Save model at ./saved_model/model_lstm.pt\n",
            "epoch:  11\n",
            "0/18183\tLoss: 0.63335\tAccuracy: 0.75000\n",
            "1000/18183\tLoss: 0.42336\tAccuracy: 0.83734\n",
            "2000/18183\tLoss: 0.08838\tAccuracy: 0.83518\n",
            "3000/18183\tLoss: 0.33014\tAccuracy: 0.83554\n",
            "4000/18183\tLoss: 0.63765\tAccuracy: 0.83584\n",
            "5000/18183\tLoss: 0.34764\tAccuracy: 0.83570\n",
            "6000/18183\tLoss: 0.02835\tAccuracy: 0.83544\n",
            "7000/18183\tLoss: 0.30579\tAccuracy: 0.83456\n",
            "8000/18183\tLoss: 0.37099\tAccuracy: 0.83385\n",
            "9000/18183\tLoss: 0.39333\tAccuracy: 0.83359\n",
            "10000/18183\tLoss: 0.11414\tAccuracy: 0.83345\n",
            "11000/18183\tLoss: 0.38993\tAccuracy: 0.83328\n",
            "12000/18183\tLoss: 0.30430\tAccuracy: 0.83293\n",
            "13000/18183\tLoss: 0.55596\tAccuracy: 0.83275\n",
            "14000/18183\tLoss: 0.47990\tAccuracy: 0.83267\n",
            "15000/18183\tLoss: 0.00311\tAccuracy: 0.83247\n",
            "16000/18183\tLoss: 0.72451\tAccuracy: 0.83219\n",
            "17000/18183\tLoss: 0.53008\tAccuracy: 0.83171\n",
            "18000/18183\tLoss: 0.65139\tAccuracy: 0.83137\n",
            "Validation accuracy: 0.78803\n",
            "Save model at ./saved_model/model_lstm.pt\n",
            "epoch:  12\n",
            "0/18183\tLoss: 0.26139\tAccuracy: 0.93750\n",
            "1000/18183\tLoss: 0.38464\tAccuracy: 0.85828\n",
            "2000/18183\tLoss: 0.47876\tAccuracy: 0.85643\n",
            "3000/18183\tLoss: 0.42316\tAccuracy: 0.85388\n",
            "4000/18183\tLoss: 0.39668\tAccuracy: 0.85258\n",
            "5000/18183\tLoss: 0.46718\tAccuracy: 0.85221\n",
            "6000/18183\tLoss: 0.39192\tAccuracy: 0.85134\n",
            "7000/18183\tLoss: 0.00040\tAccuracy: 0.84994\n",
            "8000/18183\tLoss: 0.37732\tAccuracy: 0.84955\n",
            "9000/18183\tLoss: 0.41863\tAccuracy: 0.84834\n",
            "10000/18183\tLoss: 0.37892\tAccuracy: 0.84798\n",
            "11000/18183\tLoss: 0.36382\tAccuracy: 0.84750\n",
            "12000/18183\tLoss: 0.27960\tAccuracy: 0.84701\n",
            "13000/18183\tLoss: 0.44478\tAccuracy: 0.84681\n",
            "14000/18183\tLoss: 0.49240\tAccuracy: 0.84660\n",
            "15000/18183\tLoss: 0.32640\tAccuracy: 0.84636\n",
            "16000/18183\tLoss: 0.72062\tAccuracy: 0.84598\n",
            "17000/18183\tLoss: 0.54967\tAccuracy: 0.84542\n",
            "18000/18183\tLoss: 0.34947\tAccuracy: 0.84515\n",
            "Validation accuracy: 0.79413\n",
            "Save model at ./saved_model/model_lstm.pt\n",
            "epoch:  13\n",
            "0/18183\tLoss: 0.34676\tAccuracy: 0.84375\n",
            "1000/18183\tLoss: 0.34146\tAccuracy: 0.87104\n",
            "2000/18183\tLoss: 0.34078\tAccuracy: 0.86827\n",
            "3000/18183\tLoss: 0.13596\tAccuracy: 0.86763\n",
            "4000/18183\tLoss: 0.47390\tAccuracy: 0.86617\n",
            "5000/18183\tLoss: 0.40750\tAccuracy: 0.86580\n",
            "6000/18183\tLoss: 0.00658\tAccuracy: 0.86493\n",
            "7000/18183\tLoss: 0.47814\tAccuracy: 0.86471\n",
            "8000/18183\tLoss: 0.43097\tAccuracy: 0.86406\n",
            "9000/18183\tLoss: 0.32360\tAccuracy: 0.86359\n",
            "10000/18183\tLoss: 0.32681\tAccuracy: 0.86277\n",
            "11000/18183\tLoss: 0.64047\tAccuracy: 0.86247\n",
            "12000/18183\tLoss: 0.57968\tAccuracy: 0.86202\n",
            "13000/18183\tLoss: 0.33818\tAccuracy: 0.86162\n",
            "14000/18183\tLoss: 0.24982\tAccuracy: 0.86123\n",
            "15000/18183\tLoss: 0.54677\tAccuracy: 0.86060\n",
            "16000/18183\tLoss: 0.31561\tAccuracy: 0.86031\n",
            "17000/18183\tLoss: 0.31778\tAccuracy: 0.86009\n",
            "18000/18183\tLoss: 0.85743\tAccuracy: 0.85957\n",
            "Validation accuracy: 0.79209\n",
            "Save model at ./saved_model/model_lstm.pt\n",
            "epoch:  14\n",
            "0/18183\tLoss: 0.40339\tAccuracy: 0.81250\n",
            "1000/18183\tLoss: 0.21757\tAccuracy: 0.88375\n",
            "2000/18183\tLoss: 0.31288\tAccuracy: 0.88339\n",
            "3000/18183\tLoss: 0.33017\tAccuracy: 0.88291\n",
            "4000/18183\tLoss: 0.26218\tAccuracy: 0.88244\n",
            "5000/18183\tLoss: 0.39657\tAccuracy: 0.88119\n",
            "6000/18183\tLoss: 0.16651\tAccuracy: 0.88020\n",
            "7000/18183\tLoss: 0.38314\tAccuracy: 0.87963\n",
            "8000/18183\tLoss: 0.17816\tAccuracy: 0.87920\n",
            "9000/18183\tLoss: 0.20273\tAccuracy: 0.87854\n",
            "10000/18183\tLoss: 0.19771\tAccuracy: 0.87791\n",
            "11000/18183\tLoss: 0.35674\tAccuracy: 0.87721\n",
            "12000/18183\tLoss: 0.48463\tAccuracy: 0.87680\n",
            "13000/18183\tLoss: 0.08772\tAccuracy: 0.87604\n",
            "14000/18183\tLoss: 0.24116\tAccuracy: 0.87569\n",
            "15000/18183\tLoss: 0.03086\tAccuracy: 0.87522\n",
            "16000/18183\tLoss: 0.31333\tAccuracy: 0.87439\n",
            "17000/18183\tLoss: 0.21125\tAccuracy: 0.87390\n",
            "18000/18183\tLoss: 0.20252\tAccuracy: 0.87349\n",
            "Validation accuracy: 0.78224\n",
            "Save model at ./saved_model/model_lstm.pt\n",
            "epoch:  15\n",
            "0/18183\tLoss: 0.26283\tAccuracy: 0.87500\n",
            "1000/18183\tLoss: 0.15648\tAccuracy: 0.90197\n",
            "2000/18183\tLoss: 0.22655\tAccuracy: 0.89951\n",
            "3000/18183\tLoss: 0.38932\tAccuracy: 0.89855\n",
            "4000/18183\tLoss: 0.30650\tAccuracy: 0.89656\n",
            "5000/18183\tLoss: 0.18986\tAccuracy: 0.89554\n",
            "6000/18183\tLoss: 0.23417\tAccuracy: 0.89443\n",
            "7000/18183\tLoss: 0.24570\tAccuracy: 0.89371\n",
            "8000/18183\tLoss: 0.60907\tAccuracy: 0.89251\n",
            "9000/18183\tLoss: 0.04521\tAccuracy: 0.89202\n",
            "10000/18183\tLoss: 0.41622\tAccuracy: 0.89157\n",
            "11000/18183\tLoss: 0.63304\tAccuracy: 0.89069\n",
            "12000/18183\tLoss: 0.43044\tAccuracy: 0.89009\n",
            "13000/18183\tLoss: 0.53312\tAccuracy: 0.88941\n",
            "14000/18183\tLoss: 0.35201\tAccuracy: 0.88888\n",
            "15000/18183\tLoss: 0.33432\tAccuracy: 0.88840\n",
            "16000/18183\tLoss: 0.30177\tAccuracy: 0.88795\n",
            "17000/18183\tLoss: 0.19594\tAccuracy: 0.88743\n",
            "18000/18183\tLoss: 0.27881\tAccuracy: 0.88688\n",
            "Validation accuracy: 0.78285\n",
            "Save model at ./saved_model/model_lstm.pt\n",
            "epoch:  16\n",
            "0/18183\tLoss: 0.23183\tAccuracy: 0.93750\n",
            "1000/18183\tLoss: 0.18551\tAccuracy: 0.91023\n",
            "2000/18183\tLoss: 0.44929\tAccuracy: 0.91065\n",
            "3000/18183\tLoss: 0.16260\tAccuracy: 0.91050\n",
            "4000/18183\tLoss: 0.27083\tAccuracy: 0.90941\n",
            "5000/18183\tLoss: 0.26881\tAccuracy: 0.90806\n",
            "6000/18183\tLoss: 0.48024\tAccuracy: 0.90744\n",
            "7000/18183\tLoss: 0.35165\tAccuracy: 0.90659\n",
            "8000/18183\tLoss: 0.29652\tAccuracy: 0.90567\n",
            "9000/18183\tLoss: 0.18708\tAccuracy: 0.90497\n",
            "10000/18183\tLoss: 0.10328\tAccuracy: 0.90462\n",
            "11000/18183\tLoss: 0.35890\tAccuracy: 0.90404\n",
            "12000/18183\tLoss: 0.33362\tAccuracy: 0.90360\n",
            "13000/18183\tLoss: 0.50117\tAccuracy: 0.90277\n",
            "14000/18183\tLoss: 0.00002\tAccuracy: 0.90226\n",
            "15000/18183\tLoss: 0.50025\tAccuracy: 0.90141\n",
            "16000/18183\tLoss: 0.33711\tAccuracy: 0.90094\n",
            "17000/18183\tLoss: 0.59586\tAccuracy: 0.90038\n",
            "18000/18183\tLoss: 0.26153\tAccuracy: 0.89988\n",
            "Validation accuracy: 0.77990\n",
            "Save model at ./saved_model/model_lstm.pt\n",
            "epoch:  17\n",
            "0/18183\tLoss: 0.00836\tAccuracy: 1.00000\n",
            "1000/18183\tLoss: 0.21415\tAccuracy: 0.92414\n",
            "2000/18183\tLoss: 0.08537\tAccuracy: 0.92249\n",
            "3000/18183\tLoss: 0.28709\tAccuracy: 0.92052\n",
            "4000/18183\tLoss: 0.16191\tAccuracy: 0.92014\n",
            "5000/18183\tLoss: 0.28420\tAccuracy: 0.91826\n",
            "6000/18183\tLoss: 0.53952\tAccuracy: 0.91798\n",
            "7000/18183\tLoss: 0.21145\tAccuracy: 0.91766\n",
            "8000/18183\tLoss: 0.12371\tAccuracy: 0.91722\n",
            "9000/18183\tLoss: 0.18632\tAccuracy: 0.91687\n",
            "10000/18183\tLoss: 0.14525\tAccuracy: 0.91634\n",
            "11000/18183\tLoss: 0.32087\tAccuracy: 0.91577\n",
            "12000/18183\tLoss: 0.28832\tAccuracy: 0.91492\n",
            "13000/18183\tLoss: 0.46119\tAccuracy: 0.91422\n",
            "14000/18183\tLoss: 0.13368\tAccuracy: 0.91357\n",
            "15000/18183\tLoss: 0.13332\tAccuracy: 0.91295\n",
            "16000/18183\tLoss: 0.25644\tAccuracy: 0.91238\n",
            "17000/18183\tLoss: 0.22187\tAccuracy: 0.91169\n",
            "18000/18183\tLoss: 0.22032\tAccuracy: 0.91138\n",
            "Validation accuracy: 0.78203\n",
            "Save model at ./saved_model/model_lstm.pt\n",
            "epoch:  18\n",
            "0/18183\tLoss: 0.30915\tAccuracy: 0.87500\n",
            "1000/18183\tLoss: 0.08751\tAccuracy: 0.93689\n",
            "2000/18183\tLoss: 0.18634\tAccuracy: 0.93375\n",
            "3000/18183\tLoss: 0.23740\tAccuracy: 0.93199\n",
            "4000/18183\tLoss: 0.19046\tAccuracy: 0.93079\n",
            "5000/18183\tLoss: 0.20999\tAccuracy: 0.92971\n",
            "6000/18183\tLoss: 0.23571\tAccuracy: 0.92876\n",
            "7000/18183\tLoss: 0.46752\tAccuracy: 0.92769\n",
            "8000/18183\tLoss: 0.24249\tAccuracy: 0.92683\n",
            "9000/18183\tLoss: 0.14030\tAccuracy: 0.92570\n",
            "10000/18183\tLoss: 0.19847\tAccuracy: 0.92500\n",
            "11000/18183\tLoss: 0.12225\tAccuracy: 0.92452\n",
            "12000/18183\tLoss: 0.35693\tAccuracy: 0.92364\n",
            "13000/18183\tLoss: 0.19077\tAccuracy: 0.92316\n",
            "14000/18183\tLoss: 0.22144\tAccuracy: 0.92250\n",
            "15000/18183\tLoss: 0.57090\tAccuracy: 0.92199\n",
            "16000/18183\tLoss: 0.23510\tAccuracy: 0.92164\n",
            "17000/18183\tLoss: 0.18467\tAccuracy: 0.92112\n",
            "18000/18183\tLoss: 0.10890\tAccuracy: 0.92061\n",
            "Validation accuracy: 0.77787\n",
            "Save model at ./saved_model/model_lstm.pt\n",
            "epoch:  19\n",
            "0/18183\tLoss: 0.15434\tAccuracy: 0.90625\n",
            "1000/18183\tLoss: 0.18671\tAccuracy: 0.94428\n",
            "2000/18183\tLoss: 0.25920\tAccuracy: 0.94156\n",
            "3000/18183\tLoss: 0.20055\tAccuracy: 0.94066\n",
            "4000/18183\tLoss: 0.01536\tAccuracy: 0.93995\n",
            "5000/18183\tLoss: 0.13467\tAccuracy: 0.93849\n",
            "6000/18183\tLoss: 0.10675\tAccuracy: 0.93727\n",
            "7000/18183\tLoss: 0.18520\tAccuracy: 0.93627\n",
            "8000/18183\tLoss: 0.00920\tAccuracy: 0.93524\n",
            "9000/18183\tLoss: 0.14495\tAccuracy: 0.93462\n",
            "10000/18183\tLoss: 0.02108\tAccuracy: 0.93400\n",
            "11000/18183\tLoss: 0.26558\tAccuracy: 0.93338\n",
            "12000/18183\tLoss: 0.17581\tAccuracy: 0.93275\n",
            "13000/18183\tLoss: 0.10054\tAccuracy: 0.93199\n",
            "14000/18183\tLoss: 0.18468\tAccuracy: 0.93144\n",
            "15000/18183\tLoss: 0.09197\tAccuracy: 0.93095\n",
            "16000/18183\tLoss: 0.12043\tAccuracy: 0.93030\n",
            "17000/18183\tLoss: 0.27552\tAccuracy: 0.92966\n",
            "18000/18183\tLoss: 0.00215\tAccuracy: 0.92927\n",
            "Validation accuracy: 0.77695\n",
            "Save model at ./saved_model/model_lstm.pt\n",
            "epoch:  20\n",
            "0/18183\tLoss: 0.36634\tAccuracy: 0.84375\n",
            "1000/18183\tLoss: 0.22641\tAccuracy: 0.94835\n",
            "2000/18183\tLoss: 0.22921\tAccuracy: 0.94801\n",
            "3000/18183\tLoss: 0.17575\tAccuracy: 0.94720\n",
            "4000/18183\tLoss: 0.14772\tAccuracy: 0.94614\n",
            "5000/18183\tLoss: 0.19956\tAccuracy: 0.94523\n",
            "6000/18183\tLoss: 0.08627\tAccuracy: 0.94410\n",
            "7000/18183\tLoss: 0.27474\tAccuracy: 0.94288\n",
            "8000/18183\tLoss: 0.10870\tAccuracy: 0.94232\n",
            "9000/18183\tLoss: 0.27030\tAccuracy: 0.94142\n",
            "10000/18183\tLoss: 0.23113\tAccuracy: 0.94101\n",
            "11000/18183\tLoss: 0.09308\tAccuracy: 0.94051\n",
            "12000/18183\tLoss: 0.21287\tAccuracy: 0.93978\n",
            "13000/18183\tLoss: 0.13365\tAccuracy: 0.93942\n",
            "14000/18183\tLoss: 0.07686\tAccuracy: 0.93893\n",
            "15000/18183\tLoss: 0.16789\tAccuracy: 0.93842\n",
            "16000/18183\tLoss: 0.36993\tAccuracy: 0.93771\n",
            "17000/18183\tLoss: 0.25222\tAccuracy: 0.93707\n",
            "18000/18183\tLoss: 0.19766\tAccuracy: 0.93661\n",
            "Validation accuracy: 0.77319\n",
            "Save model at ./saved_model/model_lstm.pt\n",
            "Test accuracy: 0.76738\n"
          ]
        }
      ]
    },
    {
      "cell_type": "code",
      "source": [
        ""
      ],
      "metadata": {
        "id": "HrIY-zByVJj2"
      },
      "id": "HrIY-zByVJj2",
      "execution_count": 22,
      "outputs": []
    }
  ],
  "metadata": {
    "accelerator": "GPU",
    "colab": {
      "name": "LSTM-Self-Attention-model.ipynb",
      "provenance": [],
      "collapsed_sections": [],
      "machine_shape": "hm",
      "include_colab_link": true
    },
    "kernelspec": {
      "display_name": "Python 3",
      "language": "python",
      "name": "python3"
    },
    "language_info": {
      "codemirror_mode": {
        "name": "ipython",
        "version": 3
      },
      "file_extension": ".py",
      "mimetype": "text/x-python",
      "name": "python",
      "nbconvert_exporter": "python",
      "pygments_lexer": "ipython3",
      "version": "3.7.4"
    },
    "latex_envs": {
      "LaTeX_envs_menu_present": true,
      "autoclose": false,
      "autocomplete": true,
      "bibliofile": "biblio.bib",
      "cite_by": "apalike",
      "current_citInitial": 1,
      "eqLabelWithNumbers": true,
      "eqNumInitial": 1,
      "hotkeys": {
        "equation": "Ctrl-E",
        "itemize": "Ctrl-I"
      },
      "labels_anchors": false,
      "latex_user_defs": false,
      "report_style_numbering": false,
      "user_envs_cfg": false
    }
  },
  "nbformat": 4,
  "nbformat_minor": 5
}